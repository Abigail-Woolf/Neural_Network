{
 "cells": [
  {
   "cell_type": "code",
   "execution_count": 1,
   "metadata": {},
   "outputs": [
    {
     "name": "stderr",
     "output_type": "stream",
     "text": [
      "/Users/abigailwoolf/anaconda3/envs/PythonData/lib/python3.7/site-packages/tensorflow/python/framework/dtypes.py:516: FutureWarning: Passing (type, 1) or '1type' as a synonym of type is deprecated; in a future version of numpy, it will be understood as (type, (1,)) / '(1,)type'.\n",
      "  _np_qint8 = np.dtype([(\"qint8\", np.int8, 1)])\n",
      "/Users/abigailwoolf/anaconda3/envs/PythonData/lib/python3.7/site-packages/tensorflow/python/framework/dtypes.py:517: FutureWarning: Passing (type, 1) or '1type' as a synonym of type is deprecated; in a future version of numpy, it will be understood as (type, (1,)) / '(1,)type'.\n",
      "  _np_quint8 = np.dtype([(\"quint8\", np.uint8, 1)])\n",
      "/Users/abigailwoolf/anaconda3/envs/PythonData/lib/python3.7/site-packages/tensorflow/python/framework/dtypes.py:518: FutureWarning: Passing (type, 1) or '1type' as a synonym of type is deprecated; in a future version of numpy, it will be understood as (type, (1,)) / '(1,)type'.\n",
      "  _np_qint16 = np.dtype([(\"qint16\", np.int16, 1)])\n",
      "/Users/abigailwoolf/anaconda3/envs/PythonData/lib/python3.7/site-packages/tensorflow/python/framework/dtypes.py:519: FutureWarning: Passing (type, 1) or '1type' as a synonym of type is deprecated; in a future version of numpy, it will be understood as (type, (1,)) / '(1,)type'.\n",
      "  _np_quint16 = np.dtype([(\"quint16\", np.uint16, 1)])\n",
      "/Users/abigailwoolf/anaconda3/envs/PythonData/lib/python3.7/site-packages/tensorflow/python/framework/dtypes.py:520: FutureWarning: Passing (type, 1) or '1type' as a synonym of type is deprecated; in a future version of numpy, it will be understood as (type, (1,)) / '(1,)type'.\n",
      "  _np_qint32 = np.dtype([(\"qint32\", np.int32, 1)])\n",
      "/Users/abigailwoolf/anaconda3/envs/PythonData/lib/python3.7/site-packages/tensorflow/python/framework/dtypes.py:525: FutureWarning: Passing (type, 1) or '1type' as a synonym of type is deprecated; in a future version of numpy, it will be understood as (type, (1,)) / '(1,)type'.\n",
      "  np_resource = np.dtype([(\"resource\", np.ubyte, 1)])\n",
      "/Users/abigailwoolf/anaconda3/envs/PythonData/lib/python3.7/site-packages/tensorboard/compat/tensorflow_stub/dtypes.py:541: FutureWarning: Passing (type, 1) or '1type' as a synonym of type is deprecated; in a future version of numpy, it will be understood as (type, (1,)) / '(1,)type'.\n",
      "  _np_qint8 = np.dtype([(\"qint8\", np.int8, 1)])\n",
      "/Users/abigailwoolf/anaconda3/envs/PythonData/lib/python3.7/site-packages/tensorboard/compat/tensorflow_stub/dtypes.py:542: FutureWarning: Passing (type, 1) or '1type' as a synonym of type is deprecated; in a future version of numpy, it will be understood as (type, (1,)) / '(1,)type'.\n",
      "  _np_quint8 = np.dtype([(\"quint8\", np.uint8, 1)])\n",
      "/Users/abigailwoolf/anaconda3/envs/PythonData/lib/python3.7/site-packages/tensorboard/compat/tensorflow_stub/dtypes.py:543: FutureWarning: Passing (type, 1) or '1type' as a synonym of type is deprecated; in a future version of numpy, it will be understood as (type, (1,)) / '(1,)type'.\n",
      "  _np_qint16 = np.dtype([(\"qint16\", np.int16, 1)])\n",
      "/Users/abigailwoolf/anaconda3/envs/PythonData/lib/python3.7/site-packages/tensorboard/compat/tensorflow_stub/dtypes.py:544: FutureWarning: Passing (type, 1) or '1type' as a synonym of type is deprecated; in a future version of numpy, it will be understood as (type, (1,)) / '(1,)type'.\n",
      "  _np_quint16 = np.dtype([(\"quint16\", np.uint16, 1)])\n",
      "/Users/abigailwoolf/anaconda3/envs/PythonData/lib/python3.7/site-packages/tensorboard/compat/tensorflow_stub/dtypes.py:545: FutureWarning: Passing (type, 1) or '1type' as a synonym of type is deprecated; in a future version of numpy, it will be understood as (type, (1,)) / '(1,)type'.\n",
      "  _np_qint32 = np.dtype([(\"qint32\", np.int32, 1)])\n",
      "/Users/abigailwoolf/anaconda3/envs/PythonData/lib/python3.7/site-packages/tensorboard/compat/tensorflow_stub/dtypes.py:550: FutureWarning: Passing (type, 1) or '1type' as a synonym of type is deprecated; in a future version of numpy, it will be understood as (type, (1,)) / '(1,)type'.\n",
      "  np_resource = np.dtype([(\"resource\", np.ubyte, 1)])\n"
     ]
    }
   ],
   "source": [
    "# Import the dependencies\n",
    "import pandas as pd\n",
    "import matplotlib as plt\n",
    "from sklearn.datasets import make_blobs\n",
    "import sklearn as skl\n",
    "import tensorflow as tf"
   ]
  },
  {
   "cell_type": "code",
   "execution_count": 2,
   "metadata": {},
   "outputs": [
    {
     "data": {
      "text/plain": [
       "<matplotlib.axes._subplots.AxesSubplot at 0x7febd6c4ef50>"
      ]
     },
     "execution_count": 2,
     "metadata": {},
     "output_type": "execute_result"
    },
    {
     "data": {
      "image/png": "[encoded data removed]",
      "text/plain": [
       "<Figure size 432x288 with 2 Axes>"
      ]
     },
     "metadata": {
      "needs_background": "light"
     },
     "output_type": "display_data"
    }
   ],
   "source": [
    "# Generate dummy dataset\n",
    "X, y = make_blobs(n_samples=1000, centers=2, n_features=2, random_state=78)\n",
    "\n",
    "# Creating a DataFrame with the dummy data\n",
    "df = pd.DataFrame(X, columns=[\"Feature 1\", \"Feature 2\"])\n",
    "df[\"Target\"] = y\n",
    "\n",
    "# Plotting the dummy data\n",
    "df.plot.scatter(x=\"Feature 1\", y=\"Feature 2\", c=\"Target\", colormap=\"winter\")"
   ]
  },
  {
   "cell_type": "code",
   "execution_count": 3,
   "metadata": {},
   "outputs": [],
   "source": [
    "# Use sklearn to split the dataset\n",
    "from sklearn.model_selection import train_test_split\n",
    "X_train, X_test, y_train, y_test = train_test_split(X,y, random_state=78)"
   ]
  },
  {
   "cell_type": "code",
   "execution_count": 4,
   "metadata": {},
   "outputs": [],
   "source": [
    "# Create scaler instance\n",
    "X_scaler = skl.preprocessing.StandardScaler()\n",
    "\n",
    "# Fit the scaler\n",
    "X_scaler.fit(X_train)\n",
    "\n",
    "# Scale the data\n",
    "X_train_scaled = X_scaler.transform(X_train)\n",
    "X_test_scaled = X_scaler.transform(X_test)"
   ]
  },
  {
   "cell_type": "code",
   "execution_count": 5,
   "metadata": {},
   "outputs": [],
   "source": [
    "# Create the Keras Sequential model\n",
    "nn_model = tf.keras.models.Sequential()"
   ]
  },
  {
   "cell_type": "code",
   "execution_count": 6,
   "metadata": {},
   "outputs": [
    {
     "name": "stdout",
     "output_type": "stream",
     "text": [
      "WARNING:tensorflow:From /Users/abigailwoolf/anaconda3/envs/PythonData/lib/python3.7/site-packages/tensorflow/python/ops/init_ops.py:1251: calling VarianceScaling.__init__ (from tensorflow.python.ops.init_ops) with dtype is deprecated and will be removed in a future version.\n",
      "Instructions for updating:\n",
      "Call initializer instance with the dtype argument instead of passing it to the constructor\n"
     ]
    }
   ],
   "source": [
    "# Add out first Dense layer, including the input layer\n",
    "nn_model.add(tf.keras.layers.Dense(units=1, activation=\"relu\", input_dim=2))"
   ]
  },
  {
   "cell_type": "code",
   "execution_count": 7,
   "metadata": {},
   "outputs": [],
   "source": [
    "# Add the output layer that uses a probability activation function\n",
    "nn_model.add(tf.keras.layers.Dense(units=1, activation=\"sigmoid\"))"
   ]
  },
  {
   "cell_type": "code",
   "execution_count": 8,
   "metadata": {},
   "outputs": [
    {
     "name": "stdout",
     "output_type": "stream",
     "text": [
      "Model: \"sequential\"\n",
      "_________________________________________________________________\n",
      "Layer (type)                 Output Shape              Param #   \n",
      "=================================================================\n",
      "dense (Dense)                (None, 1)                 3         \n",
      "_________________________________________________________________\n",
      "dense_1 (Dense)              (None, 1)                 2         \n",
      "=================================================================\n",
      "Total params: 5\n",
      "Trainable params: 5\n",
      "Non-trainable params: 0\n",
      "_________________________________________________________________\n"
     ]
    }
   ],
   "source": [
    "# Check the structure of the Sequential model\n",
    "nn_model.summary()\n"
   ]
  },
  {
   "cell_type": "code",
   "execution_count": 9,
   "metadata": {},
   "outputs": [
    {
     "name": "stdout",
     "output_type": "stream",
     "text": [
      "WARNING:tensorflow:From /Users/abigailwoolf/anaconda3/envs/PythonData/lib/python3.7/site-packages/tensorflow/python/ops/nn_impl.py:180: add_dispatch_support.<locals>.wrapper (from tensorflow.python.ops.array_ops) is deprecated and will be removed in a future version.\n",
      "Instructions for updating:\n",
      "Use tf.where in 2.0, which has the same broadcast rule as np.where\n"
     ]
    }
   ],
   "source": [
    "# Compile the Sequential model together and customize metrics\n",
    "nn_model.compile(loss=\"binary_crossentropy\", optimizer=\"adam\", metrics=[\"accuracy\"])"
   ]
  },
  {
   "cell_type": "code",
   "execution_count": 10,
   "metadata": {},
   "outputs": [
    {
     "name": "stdout",
     "output_type": "stream",
     "text": [
      "Epoch 1/100\n",
      "750/750 [==============================] - 0s 316us/sample - loss: 0.6068 - acc: 0.7520\n",
      "Epoch 2/100\n",
      "750/750 [==============================] - 0s 46us/sample - loss: 0.5965 - acc: 0.7667\n",
      "Epoch 3/100\n",
      "750/750 [==============================] - 0s 36us/sample - loss: 0.5858 - acc: 0.7800\n",
      "Epoch 4/100\n",
      "750/750 [==============================] - 0s 40us/sample - loss: 0.5749 - acc: 0.7920\n",
      "Epoch 5/100\n",
      "750/750 [==============================] - 0s 40us/sample - loss: 0.5641 - acc: 0.8053\n",
      "Epoch 6/100\n",
      "750/750 [==============================] - 0s 37us/sample - loss: 0.5531 - acc: 0.8173\n",
      "Epoch 7/100\n",
      "750/750 [==============================] - 0s 43us/sample - loss: 0.5421 - acc: 0.8200\n",
      "Epoch 8/100\n",
      "750/750 [==============================] - 0s 37us/sample - loss: 0.5312 - acc: 0.8240\n",
      "Epoch 9/100\n",
      "750/750 [==============================] - 0s 45us/sample - loss: 0.5201 - acc: 0.8387\n",
      "Epoch 10/100\n",
      "750/750 [==============================] - 0s 36us/sample - loss: 0.5092 - acc: 0.8493\n",
      "Epoch 11/100\n",
      "750/750 [==============================] - 0s 34us/sample - loss: 0.4985 - acc: 0.8587\n",
      "Epoch 12/100\n",
      "750/750 [==============================] - 0s 37us/sample - loss: 0.4881 - acc: 0.8667\n",
      "Epoch 13/100\n",
      "750/750 [==============================] - 0s 42us/sample - loss: 0.4775 - acc: 0.8787\n",
      "Epoch 14/100\n",
      "750/750 [==============================] - 0s 38us/sample - loss: 0.4673 - acc: 0.8813\n",
      "Epoch 15/100\n",
      "750/750 [==============================] - 0s 48us/sample - loss: 0.4572 - acc: 0.8880\n",
      "Epoch 16/100\n",
      "750/750 [==============================] - 0s 38us/sample - loss: 0.4472 - acc: 0.8880\n",
      "Epoch 17/100\n",
      "750/750 [==============================] - 0s 37us/sample - loss: 0.4374 - acc: 0.8907\n",
      "Epoch 18/100\n",
      "750/750 [==============================] - 0s 33us/sample - loss: 0.4277 - acc: 0.8960\n",
      "Epoch 19/100\n",
      "750/750 [==============================] - 0s 36us/sample - loss: 0.4185 - acc: 0.8973\n",
      "Epoch 20/100\n",
      "750/750 [==============================] - 0s 41us/sample - loss: 0.4093 - acc: 0.9053\n",
      "Epoch 21/100\n",
      "750/750 [==============================] - 0s 41us/sample - loss: 0.4005 - acc: 0.9080\n",
      "Epoch 22/100\n",
      "750/750 [==============================] - 0s 39us/sample - loss: 0.3919 - acc: 0.9133\n",
      "Epoch 23/100\n",
      "750/750 [==============================] - 0s 38us/sample - loss: 0.3834 - acc: 0.9187\n",
      "Epoch 24/100\n",
      "750/750 [==============================] - 0s 36us/sample - loss: 0.3752 - acc: 0.9227\n",
      "Epoch 25/100\n",
      "750/750 [==============================] - 0s 33us/sample - loss: 0.3671 - acc: 0.9253\n",
      "Epoch 26/100\n",
      "750/750 [==============================] - 0s 40us/sample - loss: 0.3592 - acc: 0.9280\n",
      "Epoch 27/100\n",
      "750/750 [==============================] - 0s 34us/sample - loss: 0.3514 - acc: 0.9333\n",
      "Epoch 28/100\n",
      "750/750 [==============================] - 0s 42us/sample - loss: 0.3437 - acc: 0.9360\n",
      "Epoch 29/100\n",
      "750/750 [==============================] - 0s 44us/sample - loss: 0.3361 - acc: 0.9373\n",
      "Epoch 30/100\n",
      "750/750 [==============================] - 0s 38us/sample - loss: 0.3286 - acc: 0.9427\n",
      "Epoch 31/100\n",
      "750/750 [==============================] - 0s 38us/sample - loss: 0.3212 - acc: 0.9453\n",
      "Epoch 32/100\n",
      "750/750 [==============================] - 0s 37us/sample - loss: 0.3140 - acc: 0.9467\n",
      "Epoch 33/100\n",
      "750/750 [==============================] - 0s 35us/sample - loss: 0.3069 - acc: 0.9493\n",
      "Epoch 34/100\n",
      "750/750 [==============================] - 0s 37us/sample - loss: 0.2997 - acc: 0.9520\n",
      "Epoch 35/100\n",
      "750/750 [==============================] - 0s 41us/sample - loss: 0.2929 - acc: 0.9533\n",
      "Epoch 36/100\n",
      "750/750 [==============================] - 0s 38us/sample - loss: 0.2863 - acc: 0.9547\n",
      "Epoch 37/100\n",
      "750/750 [==============================] - 0s 37us/sample - loss: 0.2798 - acc: 0.9573\n",
      "Epoch 38/100\n",
      "750/750 [==============================] - 0s 35us/sample - loss: 0.2735 - acc: 0.9587\n",
      "Epoch 39/100\n",
      "750/750 [==============================] - 0s 37us/sample - loss: 0.2672 - acc: 0.9627\n",
      "Epoch 40/100\n",
      "750/750 [==============================] - 0s 39us/sample - loss: 0.2611 - acc: 0.9640\n",
      "Epoch 41/100\n",
      "750/750 [==============================] - 0s 50us/sample - loss: 0.2552 - acc: 0.9667\n",
      "Epoch 42/100\n",
      "750/750 [==============================] - 0s 36us/sample - loss: 0.2494 - acc: 0.9680\n",
      "Epoch 43/100\n",
      "750/750 [==============================] - 0s 37us/sample - loss: 0.2439 - acc: 0.9680\n",
      "Epoch 44/100\n",
      "750/750 [==============================] - 0s 37us/sample - loss: 0.2384 - acc: 0.9707\n",
      "Epoch 45/100\n",
      "750/750 [==============================] - 0s 43us/sample - loss: 0.2332 - acc: 0.9720\n",
      "Epoch 46/100\n",
      "750/750 [==============================] - 0s 41us/sample - loss: 0.2280 - acc: 0.9747\n",
      "Epoch 47/100\n",
      "750/750 [==============================] - 0s 42us/sample - loss: 0.2230 - acc: 0.9747\n",
      "Epoch 48/100\n",
      "750/750 [==============================] - 0s 41us/sample - loss: 0.2179 - acc: 0.9787\n",
      "Epoch 49/100\n",
      "750/750 [==============================] - 0s 41us/sample - loss: 0.2130 - acc: 0.9800\n",
      "Epoch 50/100\n",
      "750/750 [==============================] - 0s 45us/sample - loss: 0.2082 - acc: 0.9800\n",
      "Epoch 51/100\n",
      "750/750 [==============================] - 0s 44us/sample - loss: 0.2035 - acc: 0.9813\n",
      "Epoch 52/100\n",
      "750/750 [==============================] - 0s 39us/sample - loss: 0.1990 - acc: 0.9827\n",
      "Epoch 53/100\n",
      "750/750 [==============================] - 0s 35us/sample - loss: 0.1945 - acc: 0.9840\n",
      "Epoch 54/100\n",
      "750/750 [==============================] - 0s 47us/sample - loss: 0.1900 - acc: 0.9840\n",
      "Epoch 55/100\n",
      "750/750 [==============================] - 0s 61us/sample - loss: 0.1857 - acc: 0.9853\n",
      "Epoch 56/100\n",
      "750/750 [==============================] - 0s 54us/sample - loss: 0.1814 - acc: 0.9853\n",
      "Epoch 57/100\n",
      "750/750 [==============================] - 0s 42us/sample - loss: 0.1773 - acc: 0.9853\n",
      "Epoch 58/100\n",
      "750/750 [==============================] - 0s 42us/sample - loss: 0.1733 - acc: 0.9853\n",
      "Epoch 59/100\n",
      "750/750 [==============================] - 0s 41us/sample - loss: 0.1694 - acc: 0.9867\n",
      "Epoch 60/100\n",
      "750/750 [==============================] - 0s 41us/sample - loss: 0.1657 - acc: 0.9867\n",
      "Epoch 61/100\n",
      "750/750 [==============================] - 0s 40us/sample - loss: 0.1620 - acc: 0.9880\n",
      "Epoch 62/100\n",
      "750/750 [==============================] - 0s 40us/sample - loss: 0.1585 - acc: 0.9880\n",
      "Epoch 63/100\n",
      "750/750 [==============================] - 0s 41us/sample - loss: 0.1550 - acc: 0.9880\n",
      "Epoch 64/100\n",
      "750/750 [==============================] - 0s 40us/sample - loss: 0.1518 - acc: 0.9880\n",
      "Epoch 65/100\n",
      "750/750 [==============================] - 0s 39us/sample - loss: 0.1485 - acc: 0.9907\n",
      "Epoch 66/100\n",
      "750/750 [==============================] - 0s 38us/sample - loss: 0.1453 - acc: 0.9907\n",
      "Epoch 67/100\n",
      "750/750 [==============================] - 0s 39us/sample - loss: 0.1423 - acc: 0.9920\n",
      "Epoch 68/100\n",
      "750/750 [==============================] - 0s 40us/sample - loss: 0.1393 - acc: 0.9920\n",
      "Epoch 69/100\n",
      "750/750 [==============================] - 0s 40us/sample - loss: 0.1364 - acc: 0.9933\n",
      "Epoch 70/100\n",
      "750/750 [==============================] - 0s 37us/sample - loss: 0.1336 - acc: 0.9947\n",
      "Epoch 71/100\n",
      "750/750 [==============================] - 0s 41us/sample - loss: 0.1309 - acc: 0.9947\n",
      "Epoch 72/100\n",
      "750/750 [==============================] - 0s 38us/sample - loss: 0.1283 - acc: 0.9960\n",
      "Epoch 73/100\n",
      "750/750 [==============================] - 0s 39us/sample - loss: 0.1257 - acc: 0.9960\n",
      "Epoch 74/100\n",
      "750/750 [==============================] - 0s 40us/sample - loss: 0.1232 - acc: 0.9960\n",
      "Epoch 75/100\n",
      "750/750 [==============================] - 0s 38us/sample - loss: 0.1208 - acc: 0.9960\n",
      "Epoch 76/100\n",
      "750/750 [==============================] - 0s 40us/sample - loss: 0.1185 - acc: 0.9973\n",
      "Epoch 77/100\n",
      "750/750 [==============================] - 0s 39us/sample - loss: 0.1162 - acc: 0.9973\n",
      "Epoch 78/100\n",
      "750/750 [==============================] - 0s 39us/sample - loss: 0.1140 - acc: 0.9973\n",
      "Epoch 79/100\n",
      "750/750 [==============================] - 0s 42us/sample - loss: 0.1118 - acc: 0.9973\n",
      "Epoch 80/100\n",
      "750/750 [==============================] - 0s 44us/sample - loss: 0.1097 - acc: 0.9973\n",
      "Epoch 81/100\n",
      "750/750 [==============================] - 0s 39us/sample - loss: 0.1076 - acc: 0.9987\n",
      "Epoch 82/100\n",
      "750/750 [==============================] - 0s 41us/sample - loss: 0.1057 - acc: 0.9987\n",
      "Epoch 83/100\n"
     ]
    },
    {
     "name": "stdout",
     "output_type": "stream",
     "text": [
      "750/750 [==============================] - 0s 40us/sample - loss: 0.1037 - acc: 0.9987\n",
      "Epoch 84/100\n",
      "750/750 [==============================] - 0s 39us/sample - loss: 0.1018 - acc: 1.0000\n",
      "Epoch 85/100\n",
      "750/750 [==============================] - 0s 37us/sample - loss: 0.1000 - acc: 1.0000\n",
      "Epoch 86/100\n",
      "750/750 [==============================] - 0s 38us/sample - loss: 0.0982 - acc: 1.0000\n",
      "Epoch 87/100\n",
      "750/750 [==============================] - 0s 34us/sample - loss: 0.0964 - acc: 1.0000\n",
      "Epoch 88/100\n",
      "750/750 [==============================] - 0s 36us/sample - loss: 0.0947 - acc: 1.0000\n",
      "Epoch 89/100\n",
      "750/750 [==============================] - 0s 37us/sample - loss: 0.0930 - acc: 1.0000\n",
      "Epoch 90/100\n",
      "750/750 [==============================] - 0s 35us/sample - loss: 0.0914 - acc: 1.0000\n",
      "Epoch 91/100\n",
      "750/750 [==============================] - 0s 36us/sample - loss: 0.0898 - acc: 1.0000\n",
      "Epoch 92/100\n",
      "750/750 [==============================] - 0s 37us/sample - loss: 0.0883 - acc: 1.0000\n",
      "Epoch 93/100\n",
      "750/750 [==============================] - 0s 39us/sample - loss: 0.0868 - acc: 1.0000\n",
      "Epoch 94/100\n",
      "750/750 [==============================] - 0s 35us/sample - loss: 0.0853 - acc: 1.0000\n",
      "Epoch 95/100\n",
      "750/750 [==============================] - 0s 36us/sample - loss: 0.0839 - acc: 1.0000\n",
      "Epoch 96/100\n",
      "750/750 [==============================] - 0s 36us/sample - loss: 0.0825 - acc: 1.0000\n",
      "Epoch 97/100\n",
      "750/750 [==============================] - 0s 37us/sample - loss: 0.0811 - acc: 1.0000\n",
      "Epoch 98/100\n",
      "750/750 [==============================] - 0s 35us/sample - loss: 0.0798 - acc: 1.0000\n",
      "Epoch 99/100\n",
      "750/750 [==============================] - 0s 36us/sample - loss: 0.0785 - acc: 1.0000\n",
      "Epoch 100/100\n",
      "750/750 [==============================] - 0s 37us/sample - loss: 0.0773 - acc: 1.0000\n"
     ]
    }
   ],
   "source": [
    "# Fit the model to the training data\n",
    "fit_model = nn_model.fit(X_train_scaled, y_train, epochs=100)"
   ]
  },
  {
   "cell_type": "code",
   "execution_count": 11,
   "metadata": {},
   "outputs": [
    {
     "data": {
      "text/plain": [
       "<matplotlib.axes._subplots.AxesSubplot at 0x7febd7977890>"
      ]
     },
     "execution_count": 11,
     "metadata": {},
     "output_type": "execute_result"
    },
    {
     "data": {
      "image/png": "[encoded data removed]",
      "text/plain": [
       "<Figure size 432x288 with 1 Axes>"
      ]
     },
     "metadata": {
      "needs_background": "light"
     },
     "output_type": "display_data"
    }
   ],
   "source": [
    "# Create a DataFrame containing training history\n",
    "history_df = pd.DataFrame(fit_model.history, index=range(1,len(fit_model.history[\"loss\"])+1))\n",
    "\n",
    "# Plot the loss\n",
    "history_df.plot(y=\"loss\")"
   ]
  },
  {
   "cell_type": "code",
   "execution_count": 12,
   "metadata": {},
   "outputs": [
    {
     "data": {
      "text/plain": [
       "<matplotlib.axes._subplots.AxesSubplot at 0x7febd7f4ae10>"
      ]
     },
     "execution_count": 12,
     "metadata": {},
     "output_type": "execute_result"
    },
    {
     "data": {
      "image/png": "[encoded data removed]",
      "text/plain": [
       "<Figure size 432x288 with 1 Axes>"
      ]
     },
     "metadata": {
      "needs_background": "light"
     },
     "output_type": "display_data"
    }
   ],
   "source": [
    "# Plot the accuracy\n",
    "history_df.plot(y=\"acc\")"
   ]
  },
  {
   "cell_type": "code",
   "execution_count": 13,
   "metadata": {},
   "outputs": [
    {
     "name": "stdout",
     "output_type": "stream",
     "text": [
      "250/250 - 0s - loss: 0.0717 - acc: 1.0000\n",
      "Loss:0.07168564033508301, Accuracy:1.0\n"
     ]
    }
   ],
   "source": [
    "# Evaluate the model using the test data\n",
    "model_loss, model_accuracy = nn_model.evaluate(X_test_scaled,y_test, verbose=2)\n",
    "print(f\"Loss:{model_loss}, Accuracy:{model_accuracy}\")"
   ]
  },
  {
   "cell_type": "code",
   "execution_count": 14,
   "metadata": {},
   "outputs": [
    {
     "data": {
      "text/plain": [
       "array([[0],\n",
       "       [1],\n",
       "       [0],\n",
       "       [1],\n",
       "       [0],\n",
       "       [0],\n",
       "       [1],\n",
       "       [1],\n",
       "       [1],\n",
       "       [0]], dtype=int32)"
      ]
     },
     "execution_count": 14,
     "metadata": {},
     "output_type": "execute_result"
    }
   ],
   "source": [
    "# Predict the classification of a new set of blob data\n",
    "new_X, new_Y = make_blobs(n_samples=10, centers=2, n_features=2, random_state=78)\n",
    "new_X_scaled = X_scaler.transform(new_X)\n",
    "nn_model.predict_classes(new_X_scaled)"
   ]
  },
  {
   "cell_type": "code",
   "execution_count": 23,
   "metadata": {},
   "outputs": [
    {
     "data": {
      "text/html": [
       "<div>\n",
       "<style scoped>\n",
       "    .dataframe tbody tr th:only-of-type {\n",
       "        vertical-align: middle;\n",
       "    }\n",
       "\n",
       "    .dataframe tbody tr th {\n",
       "        vertical-align: top;\n",
       "    }\n",
       "\n",
       "    .dataframe thead th {\n",
       "        text-align: right;\n",
       "    }\n",
       "</style>\n",
       "<table border=\"1\" class=\"dataframe\">\n",
       "  <thead>\n",
       "    <tr style=\"text-align: right;\">\n",
       "      <th></th>\n",
       "      <th>Feature 1</th>\n",
       "      <th>Feature 2</th>\n",
       "      <th>Target</th>\n",
       "    </tr>\n",
       "  </thead>\n",
       "  <tbody>\n",
       "    <tr>\n",
       "      <th>0</th>\n",
       "      <td>5.478098</td>\n",
       "      <td>7.203714</td>\n",
       "      <td>1</td>\n",
       "    </tr>\n",
       "    <tr>\n",
       "      <th>1</th>\n",
       "      <td>-8.428483</td>\n",
       "      <td>4.121889</td>\n",
       "      <td>0</td>\n",
       "    </tr>\n",
       "    <tr>\n",
       "      <th>2</th>\n",
       "      <td>-7.905447</td>\n",
       "      <td>3.323639</td>\n",
       "      <td>0</td>\n",
       "    </tr>\n",
       "    <tr>\n",
       "      <th>3</th>\n",
       "      <td>6.411041</td>\n",
       "      <td>5.523013</td>\n",
       "      <td>1</td>\n",
       "    </tr>\n",
       "    <tr>\n",
       "      <th>4</th>\n",
       "      <td>7.288599</td>\n",
       "      <td>6.171226</td>\n",
       "      <td>1</td>\n",
       "    </tr>\n",
       "    <tr>\n",
       "      <th>...</th>\n",
       "      <td>...</td>\n",
       "      <td>...</td>\n",
       "      <td>...</td>\n",
       "    </tr>\n",
       "    <tr>\n",
       "      <th>995</th>\n",
       "      <td>6.208962</td>\n",
       "      <td>5.233968</td>\n",
       "      <td>1</td>\n",
       "    </tr>\n",
       "    <tr>\n",
       "      <th>996</th>\n",
       "      <td>-9.795754</td>\n",
       "      <td>3.502709</td>\n",
       "      <td>0</td>\n",
       "    </tr>\n",
       "    <tr>\n",
       "      <th>997</th>\n",
       "      <td>4.335167</td>\n",
       "      <td>5.928298</td>\n",
       "      <td>1</td>\n",
       "    </tr>\n",
       "    <tr>\n",
       "      <th>998</th>\n",
       "      <td>-8.466632</td>\n",
       "      <td>3.577022</td>\n",
       "      <td>0</td>\n",
       "    </tr>\n",
       "    <tr>\n",
       "      <th>999</th>\n",
       "      <td>-8.386629</td>\n",
       "      <td>4.179025</td>\n",
       "      <td>0</td>\n",
       "    </tr>\n",
       "  </tbody>\n",
       "</table>\n",
       "<p>1000 rows × 3 columns</p>\n",
       "</div>"
      ],
      "text/plain": [
       "     Feature 1  Feature 2  Target\n",
       "0     5.478098   7.203714       1\n",
       "1    -8.428483   4.121889       0\n",
       "2    -7.905447   3.323639       0\n",
       "3     6.411041   5.523013       1\n",
       "4     7.288599   6.171226       1\n",
       "..         ...        ...     ...\n",
       "995   6.208962   5.233968       1\n",
       "996  -9.795754   3.502709       0\n",
       "997   4.335167   5.928298       1\n",
       "998  -8.466632   3.577022       0\n",
       "999  -8.386629   4.179025       0\n",
       "\n",
       "[1000 rows x 3 columns]"
      ]
     },
     "execution_count": 23,
     "metadata": {},
     "output_type": "execute_result"
    }
   ],
   "source": [
    "from sklearn.datasets import make_moons\n",
    "\n",
    "# Creating dummy nonlinear data\n",
    "X_moons, y_moons = make_moons(n_samples=1000, noise=0.08, random_state=78)\n",
    "\n",
    "# Transforming y_moons to a vertical vector\n",
    "y_moons = y_moons.reshape(-1, 1)\n",
    "\n",
    "# Creating a DataFrame to plot the nonlinear dummy data\n",
    "df_moons = pd.DataFrame(X_moons, columns=[\"Feature 1\", \"Feature 2\"])\n",
    "df_moons[\"Target\"] = y_moons\n",
    "df\n",
    "\n",
    "\n",
    "# Plot the nonlinear dummy data\n",
    "df_moons.plot.scatter(x=\"Feature 1\",y=\"Feature 2\", c=\"Target\",colormap=\"winter\")"
   ]
  },
  {
   "cell_type": "code",
   "execution_count": 16,
   "metadata": {},
   "outputs": [],
   "source": [
    "# Create training and testing sets\n",
    "X_moon_train, X_moon_test, y_moon_train, y_moon_test = train_test_split(\n",
    "    X_moons, y_moons, random_state=78\n",
    ")\n",
    "\n",
    "# Create the scaler instance\n",
    "X_moon_scaler = skl.preprocessing.StandardScaler()\n",
    "\n",
    "# Fit the scaler\n",
    "X_moon_scaler.fit(X_moon_train)\n",
    "\n",
    "# Scale the data\n",
    "X_moon_train_scaled = X_moon_scaler.transform(X_moon_train)\n",
    "X_moon_test_scaled = X_moon_scaler.transform(X_moon_test)"
   ]
  },
  {
   "cell_type": "code",
   "execution_count": 17,
   "metadata": {},
   "outputs": [
    {
     "name": "stdout",
     "output_type": "stream",
     "text": [
      "Epoch 1/100\n",
      "750/750 [==============================] - 0s 49us/sample - loss: 1.2196 - acc: 0.4253\n",
      "Epoch 2/100\n",
      "750/750 [==============================] - 0s 46us/sample - loss: 1.0339 - acc: 0.4613\n",
      "Epoch 3/100\n",
      "750/750 [==============================] - 0s 45us/sample - loss: 0.9206 - acc: 0.4973\n",
      "Epoch 4/100\n",
      "750/750 [==============================] - 0s 39us/sample - loss: 0.8474 - acc: 0.5160\n",
      "Epoch 5/100\n",
      "750/750 [==============================] - 0s 42us/sample - loss: 0.7933 - acc: 0.5507\n",
      "Epoch 6/100\n",
      "750/750 [==============================] - 0s 49us/sample - loss: 0.7518 - acc: 0.5680\n",
      "Epoch 7/100\n",
      "750/750 [==============================] - 0s 44us/sample - loss: 0.7164 - acc: 0.5853\n",
      "Epoch 8/100\n",
      "750/750 [==============================] - 0s 43us/sample - loss: 0.6863 - acc: 0.5947\n",
      "Epoch 9/100\n",
      "750/750 [==============================] - 0s 48us/sample - loss: 0.6592 - acc: 0.6053\n",
      "Epoch 10/100\n",
      "750/750 [==============================] - 0s 56us/sample - loss: 0.6351 - acc: 0.6187\n",
      "Epoch 11/100\n",
      "750/750 [==============================] - 0s 43us/sample - loss: 0.6119 - acc: 0.6320\n",
      "Epoch 12/100\n",
      "750/750 [==============================] - 0s 42us/sample - loss: 0.5906 - acc: 0.6400\n",
      "Epoch 13/100\n",
      "750/750 [==============================] - 0s 46us/sample - loss: 0.5706 - acc: 0.6520\n",
      "Epoch 14/100\n",
      "750/750 [==============================] - 0s 45us/sample - loss: 0.5522 - acc: 0.6693\n",
      "Epoch 15/100\n",
      "750/750 [==============================] - 0s 47us/sample - loss: 0.5354 - acc: 0.6773\n",
      "Epoch 16/100\n",
      "750/750 [==============================] - 0s 40us/sample - loss: 0.5196 - acc: 0.6867\n",
      "Epoch 17/100\n",
      "750/750 [==============================] - 0s 44us/sample - loss: 0.5051 - acc: 0.6907\n",
      "Epoch 18/100\n",
      "750/750 [==============================] - 0s 50us/sample - loss: 0.4912 - acc: 0.7000\n",
      "Epoch 19/100\n",
      "750/750 [==============================] - 0s 58us/sample - loss: 0.4785 - acc: 0.7107\n",
      "Epoch 20/100\n",
      "750/750 [==============================] - 0s 55us/sample - loss: 0.4665 - acc: 0.7187\n",
      "Epoch 21/100\n",
      "750/750 [==============================] - 0s 58us/sample - loss: 0.4553 - acc: 0.7280\n",
      "Epoch 22/100\n",
      "750/750 [==============================] - 0s 50us/sample - loss: 0.4447 - acc: 0.7440\n",
      "Epoch 23/100\n",
      "750/750 [==============================] - 0s 50us/sample - loss: 0.4348 - acc: 0.7493\n",
      "Epoch 24/100\n",
      "750/750 [==============================] - 0s 43us/sample - loss: 0.4255 - acc: 0.7533\n",
      "Epoch 25/100\n",
      "750/750 [==============================] - 0s 50us/sample - loss: 0.4168 - acc: 0.7653\n",
      "Epoch 26/100\n",
      "750/750 [==============================] - 0s 50us/sample - loss: 0.4084 - acc: 0.7747\n",
      "Epoch 27/100\n",
      "750/750 [==============================] - 0s 44us/sample - loss: 0.4004 - acc: 0.7787\n",
      "Epoch 28/100\n",
      "750/750 [==============================] - 0s 50us/sample - loss: 0.3929 - acc: 0.7827\n",
      "Epoch 29/100\n",
      "750/750 [==============================] - 0s 48us/sample - loss: 0.3855 - acc: 0.7880\n",
      "Epoch 30/100\n",
      "750/750 [==============================] - 0s 47us/sample - loss: 0.3786 - acc: 0.7933\n",
      "Epoch 31/100\n",
      "750/750 [==============================] - 0s 47us/sample - loss: 0.3718 - acc: 0.7987\n",
      "Epoch 32/100\n",
      "750/750 [==============================] - 0s 49us/sample - loss: 0.3655 - acc: 0.8000\n",
      "Epoch 33/100\n",
      "750/750 [==============================] - 0s 60us/sample - loss: 0.3596 - acc: 0.8027\n",
      "Epoch 34/100\n",
      "750/750 [==============================] - 0s 68us/sample - loss: 0.3541 - acc: 0.8133\n",
      "Epoch 35/100\n",
      "750/750 [==============================] - 0s 57us/sample - loss: 0.3490 - acc: 0.8173\n",
      "Epoch 36/100\n",
      "750/750 [==============================] - 0s 52us/sample - loss: 0.3441 - acc: 0.8253\n",
      "Epoch 37/100\n",
      "750/750 [==============================] - 0s 44us/sample - loss: 0.3397 - acc: 0.8280\n",
      "Epoch 38/100\n",
      "750/750 [==============================] - 0s 49us/sample - loss: 0.3356 - acc: 0.8320\n",
      "Epoch 39/100\n",
      "750/750 [==============================] - 0s 56us/sample - loss: 0.3317 - acc: 0.8413\n",
      "Epoch 40/100\n",
      "750/750 [==============================] - 0s 56us/sample - loss: 0.3282 - acc: 0.8427\n",
      "Epoch 41/100\n",
      "750/750 [==============================] - 0s 44us/sample - loss: 0.3248 - acc: 0.8427\n",
      "Epoch 42/100\n",
      "750/750 [==============================] - 0s 50us/sample - loss: 0.3217 - acc: 0.8493\n",
      "Epoch 43/100\n",
      "750/750 [==============================] - 0s 54us/sample - loss: 0.3188 - acc: 0.8533\n",
      "Epoch 44/100\n",
      "750/750 [==============================] - 0s 51us/sample - loss: 0.3160 - acc: 0.8560\n",
      "Epoch 45/100\n",
      "750/750 [==============================] - 0s 63us/sample - loss: 0.3134 - acc: 0.8573\n",
      "Epoch 46/100\n",
      "750/750 [==============================] - 0s 63us/sample - loss: 0.3110 - acc: 0.8640\n",
      "Epoch 47/100\n",
      "750/750 [==============================] - 0s 50us/sample - loss: 0.3087 - acc: 0.8667\n",
      "Epoch 48/100\n",
      "750/750 [==============================] - 0s 56us/sample - loss: 0.3065 - acc: 0.8667\n",
      "Epoch 49/100\n",
      "750/750 [==============================] - 0s 62us/sample - loss: 0.3043 - acc: 0.8667\n",
      "Epoch 50/100\n",
      "750/750 [==============================] - 0s 52us/sample - loss: 0.3023 - acc: 0.8680\n",
      "Epoch 51/100\n",
      "750/750 [==============================] - 0s 54us/sample - loss: 0.3004 - acc: 0.8680\n",
      "Epoch 52/100\n",
      "750/750 [==============================] - 0s 55us/sample - loss: 0.2986 - acc: 0.8707\n",
      "Epoch 53/100\n",
      "750/750 [==============================] - 0s 52us/sample - loss: 0.2969 - acc: 0.8707\n",
      "Epoch 54/100\n",
      "750/750 [==============================] - 0s 47us/sample - loss: 0.2952 - acc: 0.8707\n",
      "Epoch 55/100\n",
      "750/750 [==============================] - 0s 46us/sample - loss: 0.2937 - acc: 0.8707\n",
      "Epoch 56/100\n",
      "750/750 [==============================] - 0s 54us/sample - loss: 0.2923 - acc: 0.8720\n",
      "Epoch 57/100\n",
      "750/750 [==============================] - 0s 49us/sample - loss: 0.2910 - acc: 0.8720\n",
      "Epoch 58/100\n",
      "750/750 [==============================] - 0s 49us/sample - loss: 0.2896 - acc: 0.8733\n",
      "Epoch 59/100\n",
      "750/750 [==============================] - 0s 48us/sample - loss: 0.2883 - acc: 0.8733\n",
      "Epoch 60/100\n",
      "750/750 [==============================] - 0s 46us/sample - loss: 0.2871 - acc: 0.8733\n",
      "Epoch 61/100\n",
      "750/750 [==============================] - 0s 43us/sample - loss: 0.2860 - acc: 0.8733\n",
      "Epoch 62/100\n",
      "750/750 [==============================] - 0s 40us/sample - loss: 0.2850 - acc: 0.8733\n",
      "Epoch 63/100\n",
      "750/750 [==============================] - 0s 42us/sample - loss: 0.2838 - acc: 0.8747\n",
      "Epoch 64/100\n",
      "750/750 [==============================] - 0s 39us/sample - loss: 0.2829 - acc: 0.8773\n",
      "Epoch 65/100\n",
      "750/750 [==============================] - 0s 43us/sample - loss: 0.2818 - acc: 0.8787\n",
      "Epoch 66/100\n",
      "750/750 [==============================] - 0s 36us/sample - loss: 0.2809 - acc: 0.8800\n",
      "Epoch 67/100\n",
      "750/750 [==============================] - 0s 48us/sample - loss: 0.2800 - acc: 0.8800\n",
      "Epoch 68/100\n",
      "750/750 [==============================] - 0s 49us/sample - loss: 0.2791 - acc: 0.8813\n",
      "Epoch 69/100\n",
      "750/750 [==============================] - 0s 47us/sample - loss: 0.2783 - acc: 0.8827\n",
      "Epoch 70/100\n",
      "750/750 [==============================] - 0s 39us/sample - loss: 0.2776 - acc: 0.8853\n",
      "Epoch 71/100\n",
      "750/750 [==============================] - 0s 45us/sample - loss: 0.2767 - acc: 0.8867\n",
      "Epoch 72/100\n",
      "750/750 [==============================] - 0s 39us/sample - loss: 0.2759 - acc: 0.8880\n",
      "Epoch 73/100\n",
      "750/750 [==============================] - 0s 45us/sample - loss: 0.2752 - acc: 0.8880\n",
      "Epoch 74/100\n",
      "750/750 [==============================] - 0s 43us/sample - loss: 0.2745 - acc: 0.8880\n",
      "Epoch 75/100\n",
      "750/750 [==============================] - 0s 41us/sample - loss: 0.2738 - acc: 0.8893\n",
      "Epoch 76/100\n",
      "750/750 [==============================] - 0s 43us/sample - loss: 0.2731 - acc: 0.8893\n",
      "Epoch 77/100\n",
      "750/750 [==============================] - 0s 46us/sample - loss: 0.2726 - acc: 0.8907\n",
      "Epoch 78/100\n",
      "750/750 [==============================] - 0s 48us/sample - loss: 0.2718 - acc: 0.8907\n",
      "Epoch 79/100\n",
      "750/750 [==============================] - 0s 49us/sample - loss: 0.2712 - acc: 0.8907\n",
      "Epoch 80/100\n",
      "750/750 [==============================] - 0s 49us/sample - loss: 0.2706 - acc: 0.8920\n",
      "Epoch 81/100\n",
      "750/750 [==============================] - 0s 46us/sample - loss: 0.2701 - acc: 0.8933\n",
      "Epoch 82/100\n",
      "750/750 [==============================] - 0s 55us/sample - loss: 0.2695 - acc: 0.8933\n",
      "Epoch 83/100\n"
     ]
    },
    {
     "name": "stdout",
     "output_type": "stream",
     "text": [
      "750/750 [==============================] - 0s 46us/sample - loss: 0.2690 - acc: 0.8933\n",
      "Epoch 84/100\n",
      "750/750 [==============================] - 0s 54us/sample - loss: 0.2685 - acc: 0.8933\n",
      "Epoch 85/100\n",
      "750/750 [==============================] - 0s 54us/sample - loss: 0.2679 - acc: 0.8933\n",
      "Epoch 86/100\n",
      "750/750 [==============================] - 0s 46us/sample - loss: 0.2675 - acc: 0.8933\n",
      "Epoch 87/100\n",
      "750/750 [==============================] - 0s 46us/sample - loss: 0.2671 - acc: 0.8933\n",
      "Epoch 88/100\n",
      "750/750 [==============================] - 0s 44us/sample - loss: 0.2666 - acc: 0.8933\n",
      "Epoch 89/100\n",
      "750/750 [==============================] - 0s 48us/sample - loss: 0.2661 - acc: 0.8933\n",
      "Epoch 90/100\n",
      "750/750 [==============================] - 0s 51us/sample - loss: 0.2657 - acc: 0.8933\n",
      "Epoch 91/100\n",
      "750/750 [==============================] - 0s 52us/sample - loss: 0.2654 - acc: 0.8933\n",
      "Epoch 92/100\n",
      "750/750 [==============================] - 0s 45us/sample - loss: 0.2650 - acc: 0.8933\n",
      "Epoch 93/100\n",
      "750/750 [==============================] - 0s 41us/sample - loss: 0.2646 - acc: 0.8920\n",
      "Epoch 94/100\n",
      "750/750 [==============================] - 0s 39us/sample - loss: 0.2642 - acc: 0.8920\n",
      "Epoch 95/100\n",
      "750/750 [==============================] - 0s 44us/sample - loss: 0.2639 - acc: 0.8920\n",
      "Epoch 96/100\n",
      "750/750 [==============================] - 0s 40us/sample - loss: 0.2635 - acc: 0.8920\n",
      "Epoch 97/100\n",
      "750/750 [==============================] - 0s 38us/sample - loss: 0.2632 - acc: 0.8920\n",
      "Epoch 98/100\n",
      "750/750 [==============================] - 0s 46us/sample - loss: 0.2629 - acc: 0.8907\n",
      "Epoch 99/100\n",
      "750/750 [==============================] - 0s 42us/sample - loss: 0.2625 - acc: 0.8907\n",
      "Epoch 100/100\n",
      "750/750 [==============================] - 0s 43us/sample - loss: 0.2622 - acc: 0.8907\n"
     ]
    }
   ],
   "source": [
    "# Training the model with the nonlinear data\n",
    "model_moon = nn_model.fit(X_moon_train_scaled, y_moon_train, epochs=100, shuffle=True)"
   ]
  },
  {
   "cell_type": "code",
   "execution_count": 18,
   "metadata": {},
   "outputs": [
    {
     "data": {
      "text/plain": [
       "<matplotlib.axes._subplots.AxesSubplot at 0x7febd8297ed0>"
      ]
     },
     "execution_count": 18,
     "metadata": {},
     "output_type": "execute_result"
    },
    {
     "data": {
      "image/png": "[encoded data removed]",
      "text/plain": [
       "<Figure size 432x288 with 1 Axes>"
      ]
     },
     "metadata": {
      "needs_background": "light"
     },
     "output_type": "display_data"
    }
   ],
   "source": [
    "# Create a DataFrame containing training history\n",
    "history_df = pd.DataFrame(model_moon.history, index=range(1,len(model_moon.history[\"loss\"])+1))\n",
    "\n",
    "# Plot the loss\n",
    "history_df.plot(y=\"loss\")"
   ]
  },
  {
   "cell_type": "code",
   "execution_count": 19,
   "metadata": {},
   "outputs": [
    {
     "data": {
      "text/plain": [
       "<matplotlib.axes._subplots.AxesSubplot at 0x7febd835f4d0>"
      ]
     },
     "execution_count": 19,
     "metadata": {},
     "output_type": "execute_result"
    },
    {
     "data": {
      "image/png": "[encoded data removed]",
      "text/plain": [
       "<Figure size 432x288 with 1 Axes>"
      ]
     },
     "metadata": {
      "needs_background": "light"
     },
     "output_type": "display_data"
    }
   ],
   "source": [
    "# Plot the loss\n",
    "history_df.plot(y=\"acc\")"
   ]
  },
  {
   "cell_type": "code",
   "execution_count": 20,
   "metadata": {},
   "outputs": [],
   "source": [
    "# Generate out new Sequntial model\n",
    "new_model = tf.keras.models.Sequential()"
   ]
  },
  {
   "cell_type": "code",
   "execution_count": 21,
   "metadata": {},
   "outputs": [],
   "source": [
    "# Add the input and hidden layer\n",
    "number_inputs = 2\n",
    "number_hidden_nodes = 6\n",
    "\n",
    "new_model.add(tf.keras.layers.Dense(units=number_hidden_nodes, activation=\"relu\", input_dim=number_inputs))\n",
    "\n",
    "# Add the output layer that uses a probability activation function\n",
    "new_model.add(tf.keras.layers.Dense(units=1, activation=\"sigmoid\"))"
   ]
  },
  {
   "cell_type": "code",
   "execution_count": 22,
   "metadata": {},
   "outputs": [
    {
     "name": "stdout",
     "output_type": "stream",
     "text": [
      "Epoch 1/100\n",
      "750/750 [==============================] - 0s 140us/sample - loss: 0.6112 - acc: 0.5440\n",
      "Epoch 2/100\n",
      "750/750 [==============================] - 0s 46us/sample - loss: 0.5857 - acc: 0.5680\n",
      "Epoch 3/100\n",
      "750/750 [==============================] - 0s 44us/sample - loss: 0.5624 - acc: 0.6400\n",
      "Epoch 4/100\n",
      "750/750 [==============================] - 0s 47us/sample - loss: 0.5414 - acc: 0.7453\n",
      "Epoch 5/100\n",
      "750/750 [==============================] - 0s 49us/sample - loss: 0.5224 - acc: 0.8627\n",
      "Epoch 6/100\n",
      "750/750 [==============================] - 0s 49us/sample - loss: 0.5052 - acc: 0.8693\n",
      "Epoch 7/100\n",
      "750/750 [==============================] - 0s 40us/sample - loss: 0.4896 - acc: 0.8693\n",
      "Epoch 8/100\n",
      "750/750 [==============================] - 0s 45us/sample - loss: 0.4754 - acc: 0.8707\n",
      "Epoch 9/100\n",
      "750/750 [==============================] - 0s 53us/sample - loss: 0.4627 - acc: 0.8707\n",
      "Epoch 10/100\n",
      "750/750 [==============================] - 0s 54us/sample - loss: 0.4519 - acc: 0.8707\n",
      "Epoch 11/100\n",
      "750/750 [==============================] - 0s 46us/sample - loss: 0.4418 - acc: 0.8707\n",
      "Epoch 12/100\n",
      "750/750 [==============================] - 0s 59us/sample - loss: 0.4322 - acc: 0.8707\n",
      "Epoch 13/100\n",
      "750/750 [==============================] - 0s 50us/sample - loss: 0.4225 - acc: 0.8693\n",
      "Epoch 14/100\n",
      "750/750 [==============================] - 0s 51us/sample - loss: 0.4132 - acc: 0.8693\n",
      "Epoch 15/100\n",
      "750/750 [==============================] - 0s 48us/sample - loss: 0.4036 - acc: 0.8693\n",
      "Epoch 16/100\n",
      "750/750 [==============================] - 0s 53us/sample - loss: 0.3935 - acc: 0.8747\n",
      "Epoch 17/100\n",
      "750/750 [==============================] - 0s 53us/sample - loss: 0.3832 - acc: 0.8747\n",
      "Epoch 18/100\n",
      "750/750 [==============================] - 0s 70us/sample - loss: 0.3723 - acc: 0.8760\n",
      "Epoch 19/100\n",
      "750/750 [==============================] - 0s 60us/sample - loss: 0.3613 - acc: 0.8760\n",
      "Epoch 20/100\n",
      "750/750 [==============================] - 0s 58us/sample - loss: 0.3503 - acc: 0.8787\n",
      "Epoch 21/100\n",
      "750/750 [==============================] - 0s 64us/sample - loss: 0.3401 - acc: 0.8787\n",
      "Epoch 22/100\n",
      "750/750 [==============================] - 0s 65us/sample - loss: 0.3302 - acc: 0.8800\n",
      "Epoch 23/100\n",
      "750/750 [==============================] - 0s 60us/sample - loss: 0.3214 - acc: 0.8827\n",
      "Epoch 24/100\n",
      "750/750 [==============================] - 0s 57us/sample - loss: 0.3132 - acc: 0.8813\n",
      "Epoch 25/100\n",
      "750/750 [==============================] - 0s 55us/sample - loss: 0.3062 - acc: 0.8800\n",
      "Epoch 26/100\n",
      "750/750 [==============================] - 0s 57us/sample - loss: 0.2997 - acc: 0.8827\n",
      "Epoch 27/100\n",
      "750/750 [==============================] - 0s 60us/sample - loss: 0.2943 - acc: 0.8827\n",
      "Epoch 28/100\n",
      "750/750 [==============================] - 0s 68us/sample - loss: 0.2896 - acc: 0.8827\n",
      "Epoch 29/100\n",
      "750/750 [==============================] - 0s 58us/sample - loss: 0.2856 - acc: 0.8840\n",
      "Epoch 30/100\n",
      "750/750 [==============================] - 0s 61us/sample - loss: 0.2818 - acc: 0.8840\n",
      "Epoch 31/100\n",
      "750/750 [==============================] - 0s 54us/sample - loss: 0.2785 - acc: 0.8840\n",
      "Epoch 32/100\n",
      "750/750 [==============================] - 0s 54us/sample - loss: 0.2755 - acc: 0.8840\n",
      "Epoch 33/100\n",
      "750/750 [==============================] - 0s 60us/sample - loss: 0.2730 - acc: 0.8853\n",
      "Epoch 34/100\n",
      "750/750 [==============================] - 0s 62us/sample - loss: 0.2707 - acc: 0.8867\n",
      "Epoch 35/100\n",
      "750/750 [==============================] - 0s 55us/sample - loss: 0.2687 - acc: 0.8880\n",
      "Epoch 36/100\n",
      "750/750 [==============================] - 0s 54us/sample - loss: 0.2666 - acc: 0.8880\n",
      "Epoch 37/100\n",
      "750/750 [==============================] - 0s 60us/sample - loss: 0.2649 - acc: 0.8893\n",
      "Epoch 38/100\n",
      "750/750 [==============================] - 0s 61us/sample - loss: 0.2633 - acc: 0.8907\n",
      "Epoch 39/100\n",
      "750/750 [==============================] - 0s 63us/sample - loss: 0.2619 - acc: 0.8907\n",
      "Epoch 40/100\n",
      "750/750 [==============================] - 0s 63us/sample - loss: 0.2607 - acc: 0.8920\n",
      "Epoch 41/100\n",
      "750/750 [==============================] - 0s 65us/sample - loss: 0.2594 - acc: 0.8920\n",
      "Epoch 42/100\n",
      "750/750 [==============================] - 0s 64us/sample - loss: 0.2583 - acc: 0.8920\n",
      "Epoch 43/100\n",
      "750/750 [==============================] - 0s 59us/sample - loss: 0.2574 - acc: 0.8920\n",
      "Epoch 44/100\n",
      "750/750 [==============================] - 0s 51us/sample - loss: 0.2563 - acc: 0.8920\n",
      "Epoch 45/100\n",
      "750/750 [==============================] - 0s 63us/sample - loss: 0.2554 - acc: 0.8920\n",
      "Epoch 46/100\n",
      "750/750 [==============================] - 0s 65us/sample - loss: 0.2545 - acc: 0.8933\n",
      "Epoch 47/100\n",
      "750/750 [==============================] - 0s 64us/sample - loss: 0.2537 - acc: 0.8920\n",
      "Epoch 48/100\n",
      "750/750 [==============================] - 0s 65us/sample - loss: 0.2529 - acc: 0.8933\n",
      "Epoch 49/100\n",
      "750/750 [==============================] - 0s 65us/sample - loss: 0.2521 - acc: 0.8920\n",
      "Epoch 50/100\n",
      "750/750 [==============================] - 0s 71us/sample - loss: 0.2514 - acc: 0.8933\n",
      "Epoch 51/100\n",
      "750/750 [==============================] - 0s 54us/sample - loss: 0.2506 - acc: 0.8933\n",
      "Epoch 52/100\n",
      "750/750 [==============================] - 0s 58us/sample - loss: 0.2500 - acc: 0.8947\n",
      "Epoch 53/100\n",
      "750/750 [==============================] - 0s 62us/sample - loss: 0.2494 - acc: 0.8947\n",
      "Epoch 54/100\n",
      "750/750 [==============================] - 0s 62us/sample - loss: 0.2489 - acc: 0.8960\n",
      "Epoch 55/100\n",
      "750/750 [==============================] - 0s 57us/sample - loss: 0.2483 - acc: 0.8960\n",
      "Epoch 56/100\n",
      "750/750 [==============================] - 0s 54us/sample - loss: 0.2478 - acc: 0.8960\n",
      "Epoch 57/100\n",
      "750/750 [==============================] - 0s 56us/sample - loss: 0.2472 - acc: 0.8960\n",
      "Epoch 58/100\n",
      "750/750 [==============================] - 0s 50us/sample - loss: 0.2466 - acc: 0.8960\n",
      "Epoch 59/100\n",
      "750/750 [==============================] - 0s 54us/sample - loss: 0.2462 - acc: 0.8960\n",
      "Epoch 60/100\n",
      "750/750 [==============================] - 0s 47us/sample - loss: 0.2457 - acc: 0.8960\n",
      "Epoch 61/100\n",
      "750/750 [==============================] - 0s 53us/sample - loss: 0.2453 - acc: 0.8960\n",
      "Epoch 62/100\n",
      "750/750 [==============================] - 0s 55us/sample - loss: 0.2448 - acc: 0.8973\n",
      "Epoch 63/100\n",
      "750/750 [==============================] - 0s 46us/sample - loss: 0.2443 - acc: 0.8973\n",
      "Epoch 64/100\n",
      "750/750 [==============================] - 0s 52us/sample - loss: 0.2440 - acc: 0.8973\n",
      "Epoch 65/100\n",
      "750/750 [==============================] - 0s 52us/sample - loss: 0.2435 - acc: 0.8973\n",
      "Epoch 66/100\n",
      "750/750 [==============================] - 0s 49us/sample - loss: 0.2430 - acc: 0.8973\n",
      "Epoch 67/100\n",
      "750/750 [==============================] - 0s 54us/sample - loss: 0.2427 - acc: 0.8973\n",
      "Epoch 68/100\n",
      "750/750 [==============================] - 0s 49us/sample - loss: 0.2425 - acc: 0.8973\n",
      "Epoch 69/100\n",
      "750/750 [==============================] - 0s 46us/sample - loss: 0.2421 - acc: 0.8973\n",
      "Epoch 70/100\n",
      "750/750 [==============================] - 0s 51us/sample - loss: 0.2417 - acc: 0.8973\n",
      "Epoch 71/100\n",
      "750/750 [==============================] - 0s 50us/sample - loss: 0.2414 - acc: 0.8973\n",
      "Epoch 72/100\n",
      "750/750 [==============================] - 0s 49us/sample - loss: 0.2411 - acc: 0.8973\n",
      "Epoch 73/100\n",
      "750/750 [==============================] - 0s 48us/sample - loss: 0.2408 - acc: 0.8973\n",
      "Epoch 74/100\n",
      "750/750 [==============================] - 0s 42us/sample - loss: 0.2405 - acc: 0.8973\n",
      "Epoch 75/100\n",
      "750/750 [==============================] - 0s 48us/sample - loss: 0.2402 - acc: 0.8973\n",
      "Epoch 76/100\n",
      "750/750 [==============================] - 0s 46us/sample - loss: 0.2399 - acc: 0.8973\n",
      "Epoch 77/100\n",
      "750/750 [==============================] - 0s 51us/sample - loss: 0.2396 - acc: 0.8973\n",
      "Epoch 78/100\n",
      "750/750 [==============================] - 0s 55us/sample - loss: 0.2393 - acc: 0.8973\n",
      "Epoch 79/100\n",
      "750/750 [==============================] - 0s 52us/sample - loss: 0.2390 - acc: 0.8973\n",
      "Epoch 80/100\n",
      "750/750 [==============================] - 0s 57us/sample - loss: 0.2387 - acc: 0.8973\n",
      "Epoch 81/100\n",
      "750/750 [==============================] - 0s 59us/sample - loss: 0.2384 - acc: 0.8973\n",
      "Epoch 82/100\n",
      "750/750 [==============================] - 0s 59us/sample - loss: 0.2381 - acc: 0.8973\n",
      "Epoch 83/100\n"
     ]
    },
    {
     "name": "stdout",
     "output_type": "stream",
     "text": [
      "750/750 [==============================] - 0s 57us/sample - loss: 0.2379 - acc: 0.8973\n",
      "Epoch 84/100\n",
      "750/750 [==============================] - 0s 57us/sample - loss: 0.2376 - acc: 0.8973\n",
      "Epoch 85/100\n",
      "750/750 [==============================] - 0s 52us/sample - loss: 0.2374 - acc: 0.8973\n",
      "Epoch 86/100\n",
      "750/750 [==============================] - 0s 43us/sample - loss: 0.2371 - acc: 0.8973\n",
      "Epoch 87/100\n",
      "750/750 [==============================] - 0s 42us/sample - loss: 0.2369 - acc: 0.8973\n",
      "Epoch 88/100\n",
      "750/750 [==============================] - 0s 42us/sample - loss: 0.2366 - acc: 0.8973\n",
      "Epoch 89/100\n",
      "750/750 [==============================] - 0s 48us/sample - loss: 0.2363 - acc: 0.8973\n",
      "Epoch 90/100\n",
      "750/750 [==============================] - 0s 45us/sample - loss: 0.2361 - acc: 0.8973\n",
      "Epoch 91/100\n",
      "750/750 [==============================] - 0s 44us/sample - loss: 0.2358 - acc: 0.8973\n",
      "Epoch 92/100\n",
      "750/750 [==============================] - 0s 43us/sample - loss: 0.2356 - acc: 0.8973\n",
      "Epoch 93/100\n",
      "750/750 [==============================] - 0s 44us/sample - loss: 0.2354 - acc: 0.8960\n",
      "Epoch 94/100\n",
      "750/750 [==============================] - 0s 44us/sample - loss: 0.2351 - acc: 0.8973\n",
      "Epoch 95/100\n",
      "750/750 [==============================] - 0s 44us/sample - loss: 0.2350 - acc: 0.8960\n",
      "Epoch 96/100\n",
      "750/750 [==============================] - 0s 47us/sample - loss: 0.2347 - acc: 0.8960\n",
      "Epoch 97/100\n",
      "750/750 [==============================] - 0s 48us/sample - loss: 0.2344 - acc: 0.8960\n",
      "Epoch 98/100\n",
      "750/750 [==============================] - 0s 62us/sample - loss: 0.2342 - acc: 0.8960\n",
      "Epoch 99/100\n",
      "750/750 [==============================] - 0s 63us/sample - loss: 0.2340 - acc: 0.8960\n",
      "Epoch 100/100\n",
      "750/750 [==============================] - 0s 62us/sample - loss: 0.2337 - acc: 0.8960\n"
     ]
    }
   ],
   "source": [
    "# Compile the Sequential model togather and customize metrics\n",
    "new_model.compile(loss=\"binary_crossentropy\", optimizer=\"adam\", metrics=[\"acc\"])\n",
    "\n",
    "# Fit the model to the training data\n",
    "new_fit_model = new_model.fit(X_moon_train_scaled, y_moon_train, epochs=100, shuffle=True)"
   ]
  },
  {
   "cell_type": "code",
   "execution_count": null,
   "metadata": {},
   "outputs": [],
   "source": []
  }
 ],
 "metadata": {
  "kernelspec": {
   "display_name": "PythonData",
   "language": "python3",
   "name": "pythondata"
  },
  "language_info": {
   "codemirror_mode": {
    "name": "ipython",
    "version": 3
   },
   "file_extension": ".py",
   "mimetype": "text/x-python",
   "name": "python",
   "nbconvert_exporter": "python",
   "pygments_lexer": "ipython3",
   "version": "3.7.7"
  }
 },
 "nbformat": 4,
 "nbformat_minor": 4
}
