{
 "cells": [
  {
   "cell_type": "code",
   "execution_count": 1,
   "metadata": {},
   "outputs": [
    {
     "name": "stderr",
     "output_type": "stream",
     "text": [
      "/Users/abigailwoolf/anaconda3/envs/PythonData/lib/python3.7/site-packages/tensorflow/python/framework/dtypes.py:516: FutureWarning: Passing (type, 1) or '1type' as a synonym of type is deprecated; in a future version of numpy, it will be understood as (type, (1,)) / '(1,)type'.\n",
      "  _np_qint8 = np.dtype([(\"qint8\", np.int8, 1)])\n",
      "/Users/abigailwoolf/anaconda3/envs/PythonData/lib/python3.7/site-packages/tensorflow/python/framework/dtypes.py:517: FutureWarning: Passing (type, 1) or '1type' as a synonym of type is deprecated; in a future version of numpy, it will be understood as (type, (1,)) / '(1,)type'.\n",
      "  _np_quint8 = np.dtype([(\"quint8\", np.uint8, 1)])\n",
      "/Users/abigailwoolf/anaconda3/envs/PythonData/lib/python3.7/site-packages/tensorflow/python/framework/dtypes.py:518: FutureWarning: Passing (type, 1) or '1type' as a synonym of type is deprecated; in a future version of numpy, it will be understood as (type, (1,)) / '(1,)type'.\n",
      "  _np_qint16 = np.dtype([(\"qint16\", np.int16, 1)])\n",
      "/Users/abigailwoolf/anaconda3/envs/PythonData/lib/python3.7/site-packages/tensorflow/python/framework/dtypes.py:519: FutureWarning: Passing (type, 1) or '1type' as a synonym of type is deprecated; in a future version of numpy, it will be understood as (type, (1,)) / '(1,)type'.\n",
      "  _np_quint16 = np.dtype([(\"quint16\", np.uint16, 1)])\n",
      "/Users/abigailwoolf/anaconda3/envs/PythonData/lib/python3.7/site-packages/tensorflow/python/framework/dtypes.py:520: FutureWarning: Passing (type, 1) or '1type' as a synonym of type is deprecated; in a future version of numpy, it will be understood as (type, (1,)) / '(1,)type'.\n",
      "  _np_qint32 = np.dtype([(\"qint32\", np.int32, 1)])\n",
      "/Users/abigailwoolf/anaconda3/envs/PythonData/lib/python3.7/site-packages/tensorflow/python/framework/dtypes.py:525: FutureWarning: Passing (type, 1) or '1type' as a synonym of type is deprecated; in a future version of numpy, it will be understood as (type, (1,)) / '(1,)type'.\n",
      "  np_resource = np.dtype([(\"resource\", np.ubyte, 1)])\n",
      "/Users/abigailwoolf/anaconda3/envs/PythonData/lib/python3.7/site-packages/tensorboard/compat/tensorflow_stub/dtypes.py:541: FutureWarning: Passing (type, 1) or '1type' as a synonym of type is deprecated; in a future version of numpy, it will be understood as (type, (1,)) / '(1,)type'.\n",
      "  _np_qint8 = np.dtype([(\"qint8\", np.int8, 1)])\n",
      "/Users/abigailwoolf/anaconda3/envs/PythonData/lib/python3.7/site-packages/tensorboard/compat/tensorflow_stub/dtypes.py:542: FutureWarning: Passing (type, 1) or '1type' as a synonym of type is deprecated; in a future version of numpy, it will be understood as (type, (1,)) / '(1,)type'.\n",
      "  _np_quint8 = np.dtype([(\"quint8\", np.uint8, 1)])\n",
      "/Users/abigailwoolf/anaconda3/envs/PythonData/lib/python3.7/site-packages/tensorboard/compat/tensorflow_stub/dtypes.py:543: FutureWarning: Passing (type, 1) or '1type' as a synonym of type is deprecated; in a future version of numpy, it will be understood as (type, (1,)) / '(1,)type'.\n",
      "  _np_qint16 = np.dtype([(\"qint16\", np.int16, 1)])\n",
      "/Users/abigailwoolf/anaconda3/envs/PythonData/lib/python3.7/site-packages/tensorboard/compat/tensorflow_stub/dtypes.py:544: FutureWarning: Passing (type, 1) or '1type' as a synonym of type is deprecated; in a future version of numpy, it will be understood as (type, (1,)) / '(1,)type'.\n",
      "  _np_quint16 = np.dtype([(\"quint16\", np.uint16, 1)])\n",
      "/Users/abigailwoolf/anaconda3/envs/PythonData/lib/python3.7/site-packages/tensorboard/compat/tensorflow_stub/dtypes.py:545: FutureWarning: Passing (type, 1) or '1type' as a synonym of type is deprecated; in a future version of numpy, it will be understood as (type, (1,)) / '(1,)type'.\n",
      "  _np_qint32 = np.dtype([(\"qint32\", np.int32, 1)])\n",
      "/Users/abigailwoolf/anaconda3/envs/PythonData/lib/python3.7/site-packages/tensorboard/compat/tensorflow_stub/dtypes.py:550: FutureWarning: Passing (type, 1) or '1type' as a synonym of type is deprecated; in a future version of numpy, it will be understood as (type, (1,)) / '(1,)type'.\n",
      "  np_resource = np.dtype([(\"resource\", np.ubyte, 1)])\n"
     ]
    }
   ],
   "source": [
    "# Import the dependencies\n",
    "import pandas as pd\n",
    "import matplotlib as plt\n",
    "from sklearn.datasets import make_blobs\n",
    "import sklearn as skl\n",
    "import tensorflow as tf"
   ]
  },
  {
   "cell_type": "code",
   "execution_count": 2,
   "metadata": {},
   "outputs": [
    {
     "data": {
      "text/plain": [
       "<matplotlib.axes._subplots.AxesSubplot at 0x7f82f7791150>"
      ]
     },
     "execution_count": 2,
     "metadata": {},
     "output_type": "execute_result"
    },
    {
     "data": {
      "image/png": "[encoded data removed]",
      "text/plain": [
       "<Figure size 432x288 with 2 Axes>"
      ]
     },
     "metadata": {
      "needs_background": "light"
     },
     "output_type": "display_data"
    }
   ],
   "source": [
    "# Generate dummy dataset\n",
    "X, y = make_blobs(n_samples=1000, centers=2, n_features=2, random_state=78)\n",
    "\n",
    "# Creating a DataFrame with the dummy data\n",
    "df = pd.DataFrame(X, columns=[\"Feature 1\", \"Feature 2\"])\n",
    "df[\"Target\"] = y\n",
    "\n",
    "# Plotting the dummy data\n",
    "df.plot.scatter(x=\"Feature 1\", y=\"Feature 2\", c=\"Target\", colormap=\"winter\")"
   ]
  },
  {
   "cell_type": "code",
   "execution_count": 3,
   "metadata": {},
   "outputs": [],
   "source": [
    "# Use sklearn to split the dataset\n",
    "from sklearn.model_selection import train_test_split\n",
    "X_train, X_test, y_train, y_test = train_test_split(X,y, random_state=78)"
   ]
  },
  {
   "cell_type": "code",
   "execution_count": 4,
   "metadata": {},
   "outputs": [],
   "source": [
    "# Create scaler instance\n",
    "X_scaler = skl.preprocessing.StandardScaler()\n",
    "\n",
    "# Fit the scaler\n",
    "X_scaler.fit(X_train)\n",
    "\n",
    "# Scale the data\n",
    "X_train_scaled = X_scaler.transform(X_train)\n",
    "X_test_scaled = X_scaler.transform(X_test)"
   ]
  },
  {
   "cell_type": "code",
   "execution_count": 5,
   "metadata": {},
   "outputs": [],
   "source": [
    "# Create the Keras Sequential model\n",
    "nn_model = tf.keras.models.Sequential()"
   ]
  },
  {
   "cell_type": "code",
   "execution_count": 6,
   "metadata": {},
   "outputs": [
    {
     "name": "stdout",
     "output_type": "stream",
     "text": [
      "WARNING:tensorflow:From /Users/abigailwoolf/anaconda3/envs/PythonData/lib/python3.7/site-packages/tensorflow/python/ops/init_ops.py:1251: calling VarianceScaling.__init__ (from tensorflow.python.ops.init_ops) with dtype is deprecated and will be removed in a future version.\n",
      "Instructions for updating:\n",
      "Call initializer instance with the dtype argument instead of passing it to the constructor\n"
     ]
    }
   ],
   "source": [
    "# Add out first Dense layer, including the input layer\n",
    "nn_model.add(tf.keras.layers.Dense(units=1, activation=\"relu\", input_dim=2))"
   ]
  },
  {
   "cell_type": "code",
   "execution_count": 7,
   "metadata": {},
   "outputs": [],
   "source": [
    "# Add the output layer that uses a probability activation function\n",
    "nn_model.add(tf.keras.layers.Dense(units=1, activation=\"sigmoid\"))"
   ]
  },
  {
   "cell_type": "code",
   "execution_count": 8,
   "metadata": {},
   "outputs": [
    {
     "name": "stdout",
     "output_type": "stream",
     "text": [
      "Model: \"sequential\"\n",
      "_________________________________________________________________\n",
      "Layer (type)                 Output Shape              Param #   \n",
      "=================================================================\n",
      "dense (Dense)                (None, 1)                 3         \n",
      "_________________________________________________________________\n",
      "dense_1 (Dense)              (None, 1)                 2         \n",
      "=================================================================\n",
      "Total params: 5\n",
      "Trainable params: 5\n",
      "Non-trainable params: 0\n",
      "_________________________________________________________________\n"
     ]
    }
   ],
   "source": [
    "# Check the structure of the Sequential model\n",
    "nn_model.summary()\n"
   ]
  },
  {
   "cell_type": "code",
   "execution_count": 9,
   "metadata": {},
   "outputs": [
    {
     "name": "stdout",
     "output_type": "stream",
     "text": [
      "WARNING:tensorflow:From /Users/abigailwoolf/anaconda3/envs/PythonData/lib/python3.7/site-packages/tensorflow/python/ops/nn_impl.py:180: add_dispatch_support.<locals>.wrapper (from tensorflow.python.ops.array_ops) is deprecated and will be removed in a future version.\n",
      "Instructions for updating:\n",
      "Use tf.where in 2.0, which has the same broadcast rule as np.where\n"
     ]
    }
   ],
   "source": [
    "# Compile the Sequential model together and customize metrics\n",
    "nn_model.compile(loss=\"binary_crossentropy\", optimizer=\"adam\", metrics=[\"accuracy\"])"
   ]
  },
  {
   "cell_type": "code",
   "execution_count": 10,
   "metadata": {},
   "outputs": [
    {
     "name": "stdout",
     "output_type": "stream",
     "text": [
      "Epoch 1/100\n",
      "750/750 [==============================] - 0s 368us/sample - loss: 0.6506 - acc: 0.6640\n",
      "Epoch 2/100\n",
      "750/750 [==============================] - 0s 40us/sample - loss: 0.6408 - acc: 0.6960\n",
      "Epoch 3/100\n",
      "750/750 [==============================] - 0s 38us/sample - loss: 0.6300 - acc: 0.7333\n",
      "Epoch 4/100\n",
      "750/750 [==============================] - 0s 38us/sample - loss: 0.6187 - acc: 0.7613\n",
      "Epoch 5/100\n",
      "750/750 [==============================] - 0s 40us/sample - loss: 0.6064 - acc: 0.7880\n",
      "Epoch 6/100\n",
      "750/750 [==============================] - 0s 40us/sample - loss: 0.5927 - acc: 0.8080\n",
      "Epoch 7/100\n",
      "750/750 [==============================] - 0s 39us/sample - loss: 0.5776 - acc: 0.8480\n",
      "Epoch 8/100\n",
      "750/750 [==============================] - 0s 36us/sample - loss: 0.5602 - acc: 0.8813\n",
      "Epoch 9/100\n",
      "750/750 [==============================] - 0s 34us/sample - loss: 0.5419 - acc: 0.9027\n",
      "Epoch 10/100\n",
      "750/750 [==============================] - 0s 42us/sample - loss: 0.5228 - acc: 0.9293\n",
      "Epoch 11/100\n",
      "750/750 [==============================] - 0s 38us/sample - loss: 0.5039 - acc: 0.9453\n",
      "Epoch 12/100\n",
      "750/750 [==============================] - 0s 46us/sample - loss: 0.4849 - acc: 0.9653\n",
      "Epoch 13/100\n",
      "750/750 [==============================] - 0s 39us/sample - loss: 0.4666 - acc: 0.9747\n",
      "Epoch 14/100\n",
      "750/750 [==============================] - 0s 46us/sample - loss: 0.4488 - acc: 0.9787\n",
      "Epoch 15/100\n",
      "750/750 [==============================] - 0s 45us/sample - loss: 0.4320 - acc: 0.9827\n",
      "Epoch 16/100\n",
      "750/750 [==============================] - 0s 36us/sample - loss: 0.4161 - acc: 0.9907\n",
      "Epoch 17/100\n",
      "750/750 [==============================] - 0s 38us/sample - loss: 0.4007 - acc: 0.9907\n",
      "Epoch 18/100\n",
      "750/750 [==============================] - 0s 40us/sample - loss: 0.3861 - acc: 0.9920\n",
      "Epoch 19/100\n",
      "750/750 [==============================] - 0s 39us/sample - loss: 0.3722 - acc: 0.9960\n",
      "Epoch 20/100\n",
      "750/750 [==============================] - 0s 34us/sample - loss: 0.3591 - acc: 0.9987\n",
      "Epoch 21/100\n",
      "750/750 [==============================] - 0s 43us/sample - loss: 0.3467 - acc: 1.0000\n",
      "Epoch 22/100\n",
      "750/750 [==============================] - 0s 36us/sample - loss: 0.3350 - acc: 1.0000\n",
      "Epoch 23/100\n",
      "750/750 [==============================] - 0s 38us/sample - loss: 0.3238 - acc: 1.0000\n",
      "Epoch 24/100\n",
      "750/750 [==============================] - 0s 43us/sample - loss: 0.3133 - acc: 1.0000\n",
      "Epoch 25/100\n",
      "750/750 [==============================] - 0s 35us/sample - loss: 0.3033 - acc: 1.0000\n",
      "Epoch 26/100\n",
      "750/750 [==============================] - 0s 60us/sample - loss: 0.2939 - acc: 1.0000\n",
      "Epoch 27/100\n",
      "750/750 [==============================] - 0s 69us/sample - loss: 0.2851 - acc: 1.0000\n",
      "Epoch 28/100\n",
      "750/750 [==============================] - 0s 52us/sample - loss: 0.2767 - acc: 1.0000\n",
      "Epoch 29/100\n",
      "750/750 [==============================] - 0s 45us/sample - loss: 0.2687 - acc: 1.0000\n",
      "Epoch 30/100\n",
      "750/750 [==============================] - 0s 37us/sample - loss: 0.2612 - acc: 1.0000\n",
      "Epoch 31/100\n",
      "750/750 [==============================] - 0s 40us/sample - loss: 0.2540 - acc: 1.0000\n",
      "Epoch 32/100\n",
      "750/750 [==============================] - 0s 35us/sample - loss: 0.2471 - acc: 1.0000\n",
      "Epoch 33/100\n",
      "750/750 [==============================] - 0s 37us/sample - loss: 0.2405 - acc: 1.0000\n",
      "Epoch 34/100\n",
      "750/750 [==============================] - 0s 43us/sample - loss: 0.2341 - acc: 1.0000\n",
      "Epoch 35/100\n",
      "750/750 [==============================] - 0s 40us/sample - loss: 0.2281 - acc: 1.0000\n",
      "Epoch 36/100\n",
      "750/750 [==============================] - 0s 39us/sample - loss: 0.2223 - acc: 1.0000\n",
      "Epoch 37/100\n",
      "750/750 [==============================] - 0s 36us/sample - loss: 0.2168 - acc: 1.0000\n",
      "Epoch 38/100\n",
      "750/750 [==============================] - 0s 35us/sample - loss: 0.2115 - acc: 1.0000\n",
      "Epoch 39/100\n",
      "750/750 [==============================] - 0s 36us/sample - loss: 0.2064 - acc: 1.0000\n",
      "Epoch 40/100\n",
      "750/750 [==============================] - 0s 39us/sample - loss: 0.2015 - acc: 1.0000\n",
      "Epoch 41/100\n",
      "750/750 [==============================] - 0s 42us/sample - loss: 0.1968 - acc: 1.0000\n",
      "Epoch 42/100\n",
      "750/750 [==============================] - 0s 39us/sample - loss: 0.1923 - acc: 1.0000\n",
      "Epoch 43/100\n",
      "750/750 [==============================] - 0s 38us/sample - loss: 0.1879 - acc: 1.0000\n",
      "Epoch 44/100\n",
      "750/750 [==============================] - 0s 35us/sample - loss: 0.1837 - acc: 1.0000\n",
      "Epoch 45/100\n",
      "750/750 [==============================] - 0s 33us/sample - loss: 0.1796 - acc: 1.0000\n",
      "Epoch 46/100\n",
      "750/750 [==============================] - 0s 39us/sample - loss: 0.1757 - acc: 1.0000\n",
      "Epoch 47/100\n",
      "750/750 [==============================] - 0s 42us/sample - loss: 0.1720 - acc: 1.0000\n",
      "Epoch 48/100\n",
      "750/750 [==============================] - 0s 38us/sample - loss: 0.1683 - acc: 1.0000\n",
      "Epoch 49/100\n",
      "750/750 [==============================] - 0s 45us/sample - loss: 0.1648 - acc: 1.0000\n",
      "Epoch 50/100\n",
      "750/750 [==============================] - 0s 38us/sample - loss: 0.1614 - acc: 1.0000\n",
      "Epoch 51/100\n",
      "750/750 [==============================] - 0s 36us/sample - loss: 0.1581 - acc: 1.0000\n",
      "Epoch 52/100\n",
      "750/750 [==============================] - 0s 33us/sample - loss: 0.1548 - acc: 1.0000\n",
      "Epoch 53/100\n",
      "750/750 [==============================] - 0s 38us/sample - loss: 0.1517 - acc: 1.0000\n",
      "Epoch 54/100\n",
      "750/750 [==============================] - 0s 41us/sample - loss: 0.1487 - acc: 1.0000\n",
      "Epoch 55/100\n",
      "750/750 [==============================] - 0s 37us/sample - loss: 0.1458 - acc: 1.0000\n",
      "Epoch 56/100\n",
      "750/750 [==============================] - 0s 35us/sample - loss: 0.1429 - acc: 1.0000\n",
      "Epoch 57/100\n",
      "750/750 [==============================] - 0s 47us/sample - loss: 0.1402 - acc: 1.0000\n",
      "Epoch 58/100\n",
      "750/750 [==============================] - 0s 46us/sample - loss: 0.1375 - acc: 1.0000\n",
      "Epoch 59/100\n",
      "750/750 [==============================] - 0s 38us/sample - loss: 0.1349 - acc: 1.0000\n",
      "Epoch 60/100\n",
      "750/750 [==============================] - 0s 42us/sample - loss: 0.1324 - acc: 1.0000\n",
      "Epoch 61/100\n",
      "750/750 [==============================] - 0s 35us/sample - loss: 0.1300 - acc: 1.0000\n",
      "Epoch 62/100\n",
      "750/750 [==============================] - 0s 40us/sample - loss: 0.1276 - acc: 1.0000\n",
      "Epoch 63/100\n",
      "750/750 [==============================] - 0s 42us/sample - loss: 0.1252 - acc: 1.0000\n",
      "Epoch 64/100\n",
      "750/750 [==============================] - 0s 37us/sample - loss: 0.1230 - acc: 1.0000\n",
      "Epoch 65/100\n",
      "750/750 [==============================] - 0s 39us/sample - loss: 0.1208 - acc: 1.0000\n",
      "Epoch 66/100\n",
      "750/750 [==============================] - 0s 39us/sample - loss: 0.1186 - acc: 1.0000\n",
      "Epoch 67/100\n",
      "750/750 [==============================] - 0s 40us/sample - loss: 0.1165 - acc: 1.0000\n",
      "Epoch 68/100\n",
      "750/750 [==============================] - 0s 39us/sample - loss: 0.1145 - acc: 1.0000\n",
      "Epoch 69/100\n",
      "750/750 [==============================] - 0s 34us/sample - loss: 0.1125 - acc: 1.0000\n",
      "Epoch 70/100\n",
      "750/750 [==============================] - 0s 41us/sample - loss: 0.1105 - acc: 1.0000\n",
      "Epoch 71/100\n",
      "750/750 [==============================] - 0s 38us/sample - loss: 0.1086 - acc: 1.0000\n",
      "Epoch 72/100\n",
      "750/750 [==============================] - 0s 38us/sample - loss: 0.1068 - acc: 1.0000\n",
      "Epoch 73/100\n",
      "750/750 [==============================] - 0s 41us/sample - loss: 0.1050 - acc: 1.0000\n",
      "Epoch 74/100\n",
      "750/750 [==============================] - 0s 41us/sample - loss: 0.1032 - acc: 1.0000\n",
      "Epoch 75/100\n",
      "750/750 [==============================] - 0s 35us/sample - loss: 0.1015 - acc: 1.0000\n",
      "Epoch 76/100\n",
      "750/750 [==============================] - 0s 40us/sample - loss: 0.0998 - acc: 1.0000\n",
      "Epoch 77/100\n",
      "750/750 [==============================] - 0s 39us/sample - loss: 0.0982 - acc: 1.0000\n",
      "Epoch 78/100\n",
      "750/750 [==============================] - 0s 40us/sample - loss: 0.0966 - acc: 1.0000\n",
      "Epoch 79/100\n",
      "750/750 [==============================] - 0s 37us/sample - loss: 0.0950 - acc: 1.0000\n",
      "Epoch 80/100\n",
      "750/750 [==============================] - 0s 42us/sample - loss: 0.0934 - acc: 1.0000\n",
      "Epoch 81/100\n",
      "750/750 [==============================] - 0s 40us/sample - loss: 0.0919 - acc: 1.0000\n",
      "Epoch 82/100\n",
      "750/750 [==============================] - 0s 36us/sample - loss: 0.0905 - acc: 1.0000\n",
      "Epoch 83/100\n"
     ]
    },
    {
     "name": "stdout",
     "output_type": "stream",
     "text": [
      "750/750 [==============================] - 0s 37us/sample - loss: 0.0890 - acc: 1.0000\n",
      "Epoch 84/100\n",
      "750/750 [==============================] - 0s 37us/sample - loss: 0.0876 - acc: 1.0000\n",
      "Epoch 85/100\n",
      "750/750 [==============================] - 0s 33us/sample - loss: 0.0862 - acc: 1.0000\n",
      "Epoch 86/100\n",
      "750/750 [==============================] - 0s 37us/sample - loss: 0.0849 - acc: 1.0000\n",
      "Epoch 87/100\n",
      "750/750 [==============================] - 0s 33us/sample - loss: 0.0836 - acc: 1.0000\n",
      "Epoch 88/100\n",
      "750/750 [==============================] - 0s 34us/sample - loss: 0.0823 - acc: 1.0000\n",
      "Epoch 89/100\n",
      "750/750 [==============================] - 0s 34us/sample - loss: 0.0811 - acc: 1.0000\n",
      "Epoch 90/100\n",
      "750/750 [==============================] - 0s 33us/sample - loss: 0.0798 - acc: 1.0000\n",
      "Epoch 91/100\n",
      "750/750 [==============================] - 0s 35us/sample - loss: 0.0786 - acc: 1.0000\n",
      "Epoch 92/100\n",
      "750/750 [==============================] - 0s 34us/sample - loss: 0.0774 - acc: 1.0000\n",
      "Epoch 93/100\n",
      "750/750 [==============================] - 0s 38us/sample - loss: 0.0763 - acc: 1.0000\n",
      "Epoch 94/100\n",
      "750/750 [==============================] - 0s 35us/sample - loss: 0.0751 - acc: 1.0000\n",
      "Epoch 95/100\n",
      "750/750 [==============================] - 0s 38us/sample - loss: 0.0740 - acc: 1.0000\n",
      "Epoch 96/100\n",
      "750/750 [==============================] - 0s 41us/sample - loss: 0.0729 - acc: 1.0000\n",
      "Epoch 97/100\n",
      "750/750 [==============================] - 0s 35us/sample - loss: 0.0718 - acc: 1.0000\n",
      "Epoch 98/100\n",
      "750/750 [==============================] - 0s 34us/sample - loss: 0.0708 - acc: 1.0000\n",
      "Epoch 99/100\n",
      "750/750 [==============================] - 0s 35us/sample - loss: 0.0697 - acc: 1.0000\n",
      "Epoch 100/100\n",
      "750/750 [==============================] - 0s 35us/sample - loss: 0.0687 - acc: 1.0000\n"
     ]
    }
   ],
   "source": [
    "# Fit the model to the training data\n",
    "fit_model = nn_model.fit(X_train_scaled, y_train, epochs=100)"
   ]
  },
  {
   "cell_type": "code",
   "execution_count": 11,
   "metadata": {},
   "outputs": [
    {
     "data": {
      "text/plain": [
       "<matplotlib.axes._subplots.AxesSubplot at 0x7f82f81b88d0>"
      ]
     },
     "execution_count": 11,
     "metadata": {},
     "output_type": "execute_result"
    },
    {
     "data": {
      "image/png": "[encoded data removed]",
      "text/plain": [
       "<Figure size 432x288 with 1 Axes>"
      ]
     },
     "metadata": {
      "needs_background": "light"
     },
     "output_type": "display_data"
    }
   ],
   "source": [
    "# Create a DataFrame containing training history\n",
    "history_df = pd.DataFrame(fit_model.history, index=range(1,len(fit_model.history[\"loss\"])+1))\n",
    "\n",
    "# Plot the loss\n",
    "history_df.plot(y=\"loss\")"
   ]
  },
  {
   "cell_type": "code",
   "execution_count": 13,
   "metadata": {},
   "outputs": [
    {
     "data": {
      "text/plain": [
       "<matplotlib.axes._subplots.AxesSubplot at 0x7f82f8a1ded0>"
      ]
     },
     "execution_count": 13,
     "metadata": {},
     "output_type": "execute_result"
    },
    {
     "data": {
      "image/png": "[encoded data removed]",
      "text/plain": [
       "<Figure size 432x288 with 1 Axes>"
      ]
     },
     "metadata": {
      "needs_background": "light"
     },
     "output_type": "display_data"
    }
   ],
   "source": [
    "# Plot the accuracy\n",
    "history_df.plot(y=\"acc\")"
   ]
  },
  {
   "cell_type": "code",
   "execution_count": 14,
   "metadata": {},
   "outputs": [
    {
     "name": "stdout",
     "output_type": "stream",
     "text": [
      "250/250 - 0s - loss: 0.0645 - acc: 1.0000\n",
      "Loss:0.06447291457653045, Accuracy:1.0\n"
     ]
    }
   ],
   "source": [
    "# Evaluate the model using the test data\n",
    "model_loss, model_accuracy = nn_model.evaluate(X_test_scaled,y_test, verbose=2)\n",
    "print(f\"Loss:{model_loss}, Accuracy:{model_accuracy}\")"
   ]
  },
  {
   "cell_type": "code",
   "execution_count": 15,
   "metadata": {},
   "outputs": [
    {
     "data": {
      "text/plain": [
       "array([[0],\n",
       "       [1],\n",
       "       [0],\n",
       "       [1],\n",
       "       [0],\n",
       "       [0],\n",
       "       [1],\n",
       "       [1],\n",
       "       [1],\n",
       "       [0]], dtype=int32)"
      ]
     },
     "execution_count": 15,
     "metadata": {},
     "output_type": "execute_result"
    }
   ],
   "source": [
    "# Predict the classification of a new set of blob data\n",
    "new_X, new_Y = make_blobs(n_samples=10, centers=2, n_features=2, random_state=78)\n",
    "new_X_scaled = X_scaler.transform(new_X)\n",
    "nn_model.predict_classes(new_X_scaled)"
   ]
  },
  {
   "cell_type": "code",
   "execution_count": 16,
   "metadata": {},
   "outputs": [
    {
     "data": {
      "text/plain": [
       "<matplotlib.axes._subplots.AxesSubplot at 0x7f82f8a14cd0>"
      ]
     },
     "execution_count": 16,
     "metadata": {},
     "output_type": "execute_result"
    },
    {
     "data": {
      "image/png": "[encoded data removed]",
      "text/plain": [
       "<Figure size 432x288 with 2 Axes>"
      ]
     },
     "metadata": {
      "needs_background": "light"
     },
     "output_type": "display_data"
    }
   ],
   "source": [
    "from sklearn.datasets import make_moons\n",
    "\n",
    "# Creating dummy nonlinear data\n",
    "X_moons, y_moons = make_moons(n_samples=1000, noise=0.08, random_state=78)\n",
    "\n",
    "# Transforming y_moons to a vertical vector\n",
    "y_moons = y_moons.reshape(-1, 1)\n",
    "\n",
    "# Creating a DataFrame to plot the nonlinear dummy data\n",
    "df_moons = pd.DataFrame(X_moons, columns=[\"Feature 1\", \"Feature 2\"])\n",
    "df_moons[\"Target\"] = y_moons\n",
    "\n",
    "# Plot the nonlinear dummy data\n",
    "df_moons.plot.scatter(x=\"Feature 1\",y=\"Feature 2\", c=\"Target\",colormap=\"winter\")"
   ]
  },
  {
   "cell_type": "code",
   "execution_count": 17,
   "metadata": {},
   "outputs": [],
   "source": [
    "# Create training and testing sets\n",
    "X_moon_train, X_moon_test, y_moon_train, y_moon_test = train_test_split(\n",
    "    X_moons, y_moons, random_state=78\n",
    ")\n",
    "\n",
    "# Create the scaler instance\n",
    "X_moon_scaler = skl.preprocessing.StandardScaler()\n",
    "\n",
    "# Fit the scaler\n",
    "X_moon_scaler.fit(X_moon_train)\n",
    "\n",
    "# Scale the data\n",
    "X_moon_train_scaled = X_moon_scaler.transform(X_moon_train)\n",
    "X_moon_test_scaled = X_moon_scaler.transform(X_moon_test)"
   ]
  },
  {
   "cell_type": "code",
   "execution_count": 18,
   "metadata": {},
   "outputs": [
    {
     "name": "stdout",
     "output_type": "stream",
     "text": [
      "Epoch 1/100\n",
      "750/750 [==============================] - 0s 72us/sample - loss: 0.7320 - acc: 0.6747\n",
      "Epoch 2/100\n",
      "750/750 [==============================] - 0s 63us/sample - loss: 0.6503 - acc: 0.6907\n",
      "Epoch 3/100\n",
      "750/750 [==============================] - 0s 49us/sample - loss: 0.5904 - acc: 0.7093\n",
      "Epoch 4/100\n",
      "750/750 [==============================] - 0s 49us/sample - loss: 0.5503 - acc: 0.7173\n",
      "Epoch 5/100\n",
      "750/750 [==============================] - 0s 50us/sample - loss: 0.5191 - acc: 0.7320\n",
      "Epoch 6/100\n",
      "750/750 [==============================] - 0s 47us/sample - loss: 0.4952 - acc: 0.7427\n",
      "Epoch 7/100\n",
      "750/750 [==============================] - 0s 47us/sample - loss: 0.4755 - acc: 0.7453\n",
      "Epoch 8/100\n",
      "750/750 [==============================] - 0s 45us/sample - loss: 0.4586 - acc: 0.7560\n",
      "Epoch 9/100\n",
      "750/750 [==============================] - 0s 44us/sample - loss: 0.4442 - acc: 0.7707\n",
      "Epoch 10/100\n",
      "750/750 [==============================] - 0s 48us/sample - loss: 0.4313 - acc: 0.7760\n",
      "Epoch 11/100\n",
      "750/750 [==============================] - 0s 51us/sample - loss: 0.4203 - acc: 0.7813\n",
      "Epoch 12/100\n",
      "750/750 [==============================] - 0s 51us/sample - loss: 0.4100 - acc: 0.7867\n",
      "Epoch 13/100\n",
      "750/750 [==============================] - 0s 51us/sample - loss: 0.4007 - acc: 0.7907\n",
      "Epoch 14/100\n",
      "750/750 [==============================] - 0s 51us/sample - loss: 0.3922 - acc: 0.7907\n",
      "Epoch 15/100\n",
      "750/750 [==============================] - 0s 50us/sample - loss: 0.3844 - acc: 0.7933\n",
      "Epoch 16/100\n",
      "750/750 [==============================] - 0s 46us/sample - loss: 0.3770 - acc: 0.8027\n",
      "Epoch 17/100\n",
      "750/750 [==============================] - 0s 42us/sample - loss: 0.3700 - acc: 0.8053\n",
      "Epoch 18/100\n",
      "750/750 [==============================] - 0s 48us/sample - loss: 0.3634 - acc: 0.8120\n",
      "Epoch 19/100\n",
      "750/750 [==============================] - 0s 47us/sample - loss: 0.3574 - acc: 0.8133\n",
      "Epoch 20/100\n",
      "750/750 [==============================] - 0s 47us/sample - loss: 0.3514 - acc: 0.8160\n",
      "Epoch 21/100\n",
      "750/750 [==============================] - 0s 48us/sample - loss: 0.3459 - acc: 0.8200\n",
      "Epoch 22/100\n",
      "750/750 [==============================] - 0s 46us/sample - loss: 0.3407 - acc: 0.8240\n",
      "Epoch 23/100\n",
      "750/750 [==============================] - 0s 44us/sample - loss: 0.3354 - acc: 0.8253\n",
      "Epoch 24/100\n",
      "750/750 [==============================] - 0s 48us/sample - loss: 0.3308 - acc: 0.8307\n",
      "Epoch 25/100\n",
      "750/750 [==============================] - 0s 45us/sample - loss: 0.3261 - acc: 0.8360\n",
      "Epoch 26/100\n",
      "750/750 [==============================] - 0s 47us/sample - loss: 0.3218 - acc: 0.8373\n",
      "Epoch 27/100\n",
      "750/750 [==============================] - 0s 53us/sample - loss: 0.3178 - acc: 0.8400\n",
      "Epoch 28/100\n",
      "750/750 [==============================] - 0s 56us/sample - loss: 0.3140 - acc: 0.8440\n",
      "Epoch 29/100\n",
      "750/750 [==============================] - 0s 47us/sample - loss: 0.3103 - acc: 0.8493\n",
      "Epoch 30/100\n",
      "750/750 [==============================] - 0s 54us/sample - loss: 0.3070 - acc: 0.8507\n",
      "Epoch 31/100\n",
      "750/750 [==============================] - 0s 49us/sample - loss: 0.3039 - acc: 0.8507\n",
      "Epoch 32/100\n",
      "750/750 [==============================] - 0s 44us/sample - loss: 0.3010 - acc: 0.8520\n",
      "Epoch 33/100\n",
      "750/750 [==============================] - 0s 58us/sample - loss: 0.2982 - acc: 0.8520\n",
      "Epoch 34/100\n",
      "750/750 [==============================] - 0s 52us/sample - loss: 0.2957 - acc: 0.8573\n",
      "Epoch 35/100\n",
      "750/750 [==============================] - 0s 46us/sample - loss: 0.2933 - acc: 0.8587\n",
      "Epoch 36/100\n",
      "750/750 [==============================] - 0s 52us/sample - loss: 0.2911 - acc: 0.8587\n",
      "Epoch 37/100\n",
      "750/750 [==============================] - 0s 46us/sample - loss: 0.2891 - acc: 0.8627\n",
      "Epoch 38/100\n",
      "750/750 [==============================] - 0s 47us/sample - loss: 0.2870 - acc: 0.8653\n",
      "Epoch 39/100\n",
      "750/750 [==============================] - 0s 48us/sample - loss: 0.2853 - acc: 0.8653\n",
      "Epoch 40/100\n",
      "750/750 [==============================] - 0s 47us/sample - loss: 0.2836 - acc: 0.8667\n",
      "Epoch 41/100\n",
      "750/750 [==============================] - 0s 47us/sample - loss: 0.2821 - acc: 0.8667\n",
      "Epoch 42/100\n",
      "750/750 [==============================] - 0s 46us/sample - loss: 0.2807 - acc: 0.8680\n",
      "Epoch 43/100\n",
      "750/750 [==============================] - 0s 46us/sample - loss: 0.2794 - acc: 0.8720\n",
      "Epoch 44/100\n",
      "750/750 [==============================] - 0s 44us/sample - loss: 0.2781 - acc: 0.8747\n",
      "Epoch 45/100\n",
      "750/750 [==============================] - 0s 50us/sample - loss: 0.2769 - acc: 0.8747\n",
      "Epoch 46/100\n",
      "750/750 [==============================] - 0s 45us/sample - loss: 0.2759 - acc: 0.8760\n",
      "Epoch 47/100\n",
      "750/750 [==============================] - 0s 47us/sample - loss: 0.2749 - acc: 0.8787\n",
      "Epoch 48/100\n",
      "750/750 [==============================] - 0s 46us/sample - loss: 0.2740 - acc: 0.8813\n",
      "Epoch 49/100\n",
      "750/750 [==============================] - 0s 47us/sample - loss: 0.2731 - acc: 0.8827\n",
      "Epoch 50/100\n",
      "750/750 [==============================] - 0s 50us/sample - loss: 0.2722 - acc: 0.8840\n",
      "Epoch 51/100\n",
      "750/750 [==============================] - 0s 50us/sample - loss: 0.2714 - acc: 0.8853\n",
      "Epoch 52/100\n",
      "750/750 [==============================] - 0s 55us/sample - loss: 0.2707 - acc: 0.8853\n",
      "Epoch 53/100\n",
      "750/750 [==============================] - 0s 63us/sample - loss: 0.2700 - acc: 0.8853\n",
      "Epoch 54/100\n",
      "750/750 [==============================] - 0s 56us/sample - loss: 0.2693 - acc: 0.8867\n",
      "Epoch 55/100\n",
      "750/750 [==============================] - 0s 50us/sample - loss: 0.2688 - acc: 0.8907\n",
      "Epoch 56/100\n",
      "750/750 [==============================] - 0s 41us/sample - loss: 0.2682 - acc: 0.8907\n",
      "Epoch 57/100\n",
      "750/750 [==============================] - 0s 56us/sample - loss: 0.2676 - acc: 0.8907\n",
      "Epoch 58/100\n",
      "750/750 [==============================] - 0s 50us/sample - loss: 0.2670 - acc: 0.8920\n",
      "Epoch 59/100\n",
      "750/750 [==============================] - 0s 51us/sample - loss: 0.2667 - acc: 0.8920\n",
      "Epoch 60/100\n",
      "750/750 [==============================] - 0s 53us/sample - loss: 0.2661 - acc: 0.8920\n",
      "Epoch 61/100\n",
      "750/750 [==============================] - 0s 53us/sample - loss: 0.2657 - acc: 0.8920\n",
      "Epoch 62/100\n",
      "750/750 [==============================] - 0s 47us/sample - loss: 0.2652 - acc: 0.8933\n",
      "Epoch 63/100\n",
      "750/750 [==============================] - 0s 45us/sample - loss: 0.2648 - acc: 0.8933\n",
      "Epoch 64/100\n",
      "750/750 [==============================] - 0s 71us/sample - loss: 0.2644 - acc: 0.8933\n",
      "Epoch 65/100\n",
      "750/750 [==============================] - 0s 64us/sample - loss: 0.2640 - acc: 0.8933\n",
      "Epoch 66/100\n",
      "750/750 [==============================] - 0s 42us/sample - loss: 0.2637 - acc: 0.8933\n",
      "Epoch 67/100\n",
      "750/750 [==============================] - 0s 43us/sample - loss: 0.2633 - acc: 0.8920\n",
      "Epoch 68/100\n",
      "750/750 [==============================] - 0s 46us/sample - loss: 0.2630 - acc: 0.8920\n",
      "Epoch 69/100\n",
      "750/750 [==============================] - 0s 45us/sample - loss: 0.2626 - acc: 0.8920\n",
      "Epoch 70/100\n",
      "750/750 [==============================] - 0s 45us/sample - loss: 0.2623 - acc: 0.8920\n",
      "Epoch 71/100\n",
      "750/750 [==============================] - 0s 48us/sample - loss: 0.2620 - acc: 0.8907\n",
      "Epoch 72/100\n",
      "750/750 [==============================] - 0s 51us/sample - loss: 0.2617 - acc: 0.8907\n",
      "Epoch 73/100\n",
      "750/750 [==============================] - 0s 46us/sample - loss: 0.2614 - acc: 0.8920\n",
      "Epoch 74/100\n",
      "750/750 [==============================] - 0s 42us/sample - loss: 0.2611 - acc: 0.8907\n",
      "Epoch 75/100\n",
      "750/750 [==============================] - 0s 49us/sample - loss: 0.2609 - acc: 0.8920\n",
      "Epoch 76/100\n",
      "750/750 [==============================] - 0s 50us/sample - loss: 0.2606 - acc: 0.8920\n",
      "Epoch 77/100\n",
      "750/750 [==============================] - 0s 53us/sample - loss: 0.2603 - acc: 0.8920\n",
      "Epoch 78/100\n",
      "750/750 [==============================] - 0s 53us/sample - loss: 0.2601 - acc: 0.8920\n",
      "Epoch 79/100\n",
      "750/750 [==============================] - 0s 47us/sample - loss: 0.2598 - acc: 0.8920\n",
      "Epoch 80/100\n",
      "750/750 [==============================] - 0s 46us/sample - loss: 0.2596 - acc: 0.8920\n",
      "Epoch 81/100\n",
      "750/750 [==============================] - 0s 55us/sample - loss: 0.2594 - acc: 0.8920\n",
      "Epoch 82/100\n",
      "750/750 [==============================] - 0s 50us/sample - loss: 0.2593 - acc: 0.8920\n",
      "Epoch 83/100\n"
     ]
    },
    {
     "name": "stdout",
     "output_type": "stream",
     "text": [
      "750/750 [==============================] - 0s 47us/sample - loss: 0.2590 - acc: 0.8920\n",
      "Epoch 84/100\n",
      "750/750 [==============================] - 0s 53us/sample - loss: 0.2588 - acc: 0.8920\n",
      "Epoch 85/100\n",
      "750/750 [==============================] - 0s 43us/sample - loss: 0.2586 - acc: 0.8920\n",
      "Epoch 86/100\n",
      "750/750 [==============================] - 0s 46us/sample - loss: 0.2584 - acc: 0.8920\n",
      "Epoch 87/100\n",
      "750/750 [==============================] - 0s 45us/sample - loss: 0.2582 - acc: 0.8920\n",
      "Epoch 88/100\n",
      "750/750 [==============================] - 0s 46us/sample - loss: 0.2580 - acc: 0.8920\n",
      "Epoch 89/100\n",
      "750/750 [==============================] - 0s 48us/sample - loss: 0.2578 - acc: 0.8920\n",
      "Epoch 90/100\n",
      "750/750 [==============================] - 0s 42us/sample - loss: 0.2577 - acc: 0.8920\n",
      "Epoch 91/100\n",
      "750/750 [==============================] - 0s 43us/sample - loss: 0.2576 - acc: 0.8920\n",
      "Epoch 92/100\n",
      "750/750 [==============================] - 0s 43us/sample - loss: 0.2573 - acc: 0.8920\n",
      "Epoch 93/100\n",
      "750/750 [==============================] - 0s 41us/sample - loss: 0.2572 - acc: 0.8920\n",
      "Epoch 94/100\n",
      "750/750 [==============================] - 0s 42us/sample - loss: 0.2571 - acc: 0.8920\n",
      "Epoch 95/100\n",
      "750/750 [==============================] - 0s 39us/sample - loss: 0.2569 - acc: 0.8920\n",
      "Epoch 96/100\n",
      "750/750 [==============================] - 0s 48us/sample - loss: 0.2567 - acc: 0.8920\n",
      "Epoch 97/100\n",
      "750/750 [==============================] - 0s 44us/sample - loss: 0.2566 - acc: 0.8920\n",
      "Epoch 98/100\n",
      "750/750 [==============================] - 0s 41us/sample - loss: 0.2564 - acc: 0.8920\n",
      "Epoch 99/100\n",
      "750/750 [==============================] - 0s 43us/sample - loss: 0.2563 - acc: 0.8920\n",
      "Epoch 100/100\n",
      "750/750 [==============================] - 0s 41us/sample - loss: 0.2562 - acc: 0.8920\n"
     ]
    }
   ],
   "source": [
    "# Training the model with the nonlinear data\n",
    "model_moon = nn_model.fit(X_moon_train_scaled, y_moon_train, epochs=100, shuffle=True)"
   ]
  },
  {
   "cell_type": "code",
   "execution_count": 19,
   "metadata": {},
   "outputs": [
    {
     "data": {
      "text/plain": [
       "<matplotlib.axes._subplots.AxesSubplot at 0x7f82f8bd2d50>"
      ]
     },
     "execution_count": 19,
     "metadata": {},
     "output_type": "execute_result"
    },
    {
     "data": {
      "image/png": "[encoded data removed]",
      "text/plain": [
       "<Figure size 432x288 with 1 Axes>"
      ]
     },
     "metadata": {
      "needs_background": "light"
     },
     "output_type": "display_data"
    }
   ],
   "source": [
    "# Create a DataFrame containing training history\n",
    "history_df = pd.DataFrame(model_moon.history, index=range(1,len(model_moon.history[\"loss\"])+1))\n",
    "\n",
    "# Plot the loss\n",
    "history_df.plot(y=\"loss\")"
   ]
  },
  {
   "cell_type": "code",
   "execution_count": 21,
   "metadata": {},
   "outputs": [
    {
     "data": {
      "text/plain": [
       "<matplotlib.axes._subplots.AxesSubplot at 0x7f82f8bdf850>"
      ]
     },
     "execution_count": 21,
     "metadata": {},
     "output_type": "execute_result"
    },
    {
     "data": {
      "image/png": "[encoded data removed]",
      "text/plain": [
       "<Figure size 432x288 with 1 Axes>"
      ]
     },
     "metadata": {
      "needs_background": "light"
     },
     "output_type": "display_data"
    }
   ],
   "source": [
    "# Plot the loss\n",
    "history_df.plot(y=\"acc\")"
   ]
  },
  {
   "cell_type": "code",
   "execution_count": null,
   "metadata": {},
   "outputs": [],
   "source": []
  }
 ],
 "metadata": {
  "kernelspec": {
   "display_name": "PythonData",
   "language": "python3",
   "name": "pythondata"
  },
  "language_info": {
   "codemirror_mode": {
    "name": "ipython",
    "version": 3
   },
   "file_extension": ".py",
   "mimetype": "text/x-python",
   "name": "python",
   "nbconvert_exporter": "python",
   "pygments_lexer": "ipython3",
   "version": "3.7.7"
  }
 },
 "nbformat": 4,
 "nbformat_minor": 4
}
